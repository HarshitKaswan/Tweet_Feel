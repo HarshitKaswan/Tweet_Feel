{
 "cells": [
  {
   "cell_type": "code",
   "execution_count": 1,
   "id": "bfe3dc85",
   "metadata": {
    "tags": []
   },
   "outputs": [
    {
     "name": "stdout",
     "output_type": "stream",
     "text": [
      "Requirement already satisfied: gensim in c:\\users\\hp\\anaconda3\\lib\\site-packages (4.3.2)\n",
      "Requirement already satisfied: numpy>=1.18.5 in c:\\users\\hp\\anaconda3\\lib\\site-packages (from gensim) (1.24.3)\n",
      "Requirement already satisfied: scipy>=1.7.0 in c:\\users\\hp\\anaconda3\\lib\\site-packages (from gensim) (1.11.1)\n",
      "Requirement already satisfied: smart-open>=1.8.1 in c:\\users\\hp\\anaconda3\\lib\\site-packages (from gensim) (5.2.1)\n",
      "Requirement already satisfied: keras in c:\\users\\hp\\anaconda3\\lib\\site-packages (2.15.0)\n",
      "Collecting keras\n",
      "  Obtaining dependency information for keras from https://files.pythonhosted.org/packages/b2/e4/30b53d839608d2212b97972a8516ba0c7e776ee1102eaa82624807b944cf/keras-3.0.1-py3-none-any.whl.metadata\n",
      "  Using cached keras-3.0.1-py3-none-any.whl.metadata (4.8 kB)\n",
      "Requirement already satisfied: absl-py in c:\\users\\hp\\anaconda3\\lib\\site-packages (from keras) (2.0.0)\n",
      "Requirement already satisfied: numpy in c:\\users\\hp\\anaconda3\\lib\\site-packages (from keras) (1.24.3)\n",
      "Requirement already satisfied: rich in c:\\users\\hp\\anaconda3\\lib\\site-packages (from keras) (13.7.0)\n",
      "Requirement already satisfied: namex in c:\\users\\hp\\anaconda3\\lib\\site-packages (from keras) (0.0.7)\n",
      "Requirement already satisfied: h5py in c:\\users\\hp\\anaconda3\\lib\\site-packages (from keras) (3.9.0)\n",
      "Requirement already satisfied: dm-tree in c:\\users\\hp\\anaconda3\\lib\\site-packages (from keras) (0.1.8)\n",
      "Requirement already satisfied: markdown-it-py>=2.2.0 in c:\\users\\hp\\anaconda3\\lib\\site-packages (from rich->keras) (2.2.0)\n",
      "Requirement already satisfied: pygments<3.0.0,>=2.13.0 in c:\\users\\hp\\anaconda3\\lib\\site-packages (from rich->keras) (2.15.1)\n",
      "Requirement already satisfied: mdurl~=0.1 in c:\\users\\hp\\anaconda3\\lib\\site-packages (from markdown-it-py>=2.2.0->rich->keras) (0.1.0)\n",
      "Using cached keras-3.0.1-py3-none-any.whl (999 kB)\n",
      "Installing collected packages: keras\n",
      "  Attempting uninstall: keras\n",
      "    Found existing installation: keras 2.15.0\n",
      "    Uninstalling keras-2.15.0:\n",
      "      Successfully uninstalled keras-2.15.0\n",
      "Successfully installed keras-3.0.1\n"
     ]
    },
    {
     "name": "stderr",
     "output_type": "stream",
     "text": [
      "ERROR: pip's dependency resolver does not currently take into account all the packages that are installed. This behaviour is the source of the following dependency conflicts.\n",
      "tensorflow-intel 2.15.0 requires keras<2.16,>=2.15.0, but you have keras 3.0.1 which is incompatible.\n"
     ]
    },
    {
     "name": "stdout",
     "output_type": "stream",
     "text": [
      "Requirement already satisfied: pandas in c:\\users\\hp\\anaconda3\\lib\\site-packages (2.1.4)\n",
      "Requirement already satisfied: numpy<2,>=1.23.2 in c:\\users\\hp\\anaconda3\\lib\\site-packages (from pandas) (1.24.3)\n",
      "Requirement already satisfied: python-dateutil>=2.8.2 in c:\\users\\hp\\anaconda3\\lib\\site-packages (from pandas) (2.8.2)\n",
      "Requirement already satisfied: pytz>=2020.1 in c:\\users\\hp\\anaconda3\\lib\\site-packages (from pandas) (2023.3.post1)\n",
      "Requirement already satisfied: tzdata>=2022.1 in c:\\users\\hp\\anaconda3\\lib\\site-packages (from pandas) (2023.3)\n",
      "Requirement already satisfied: six>=1.5 in c:\\users\\hp\\anaconda3\\lib\\site-packages (from python-dateutil>=2.8.2->pandas) (1.16.0)\n",
      "Requirement already satisfied: tensorflow in c:\\users\\hp\\anaconda3\\lib\\site-packages (2.15.0)\n",
      "Requirement already satisfied: tensorflow-intel==2.15.0 in c:\\users\\hp\\anaconda3\\lib\\site-packages (from tensorflow) (2.15.0)\n",
      "Requirement already satisfied: absl-py>=1.0.0 in c:\\users\\hp\\anaconda3\\lib\\site-packages (from tensorflow-intel==2.15.0->tensorflow) (2.0.0)\n",
      "Requirement already satisfied: astunparse>=1.6.0 in c:\\users\\hp\\anaconda3\\lib\\site-packages (from tensorflow-intel==2.15.0->tensorflow) (1.6.3)\n",
      "Requirement already satisfied: flatbuffers>=23.5.26 in c:\\users\\hp\\anaconda3\\lib\\site-packages (from tensorflow-intel==2.15.0->tensorflow) (23.5.26)\n",
      "Requirement already satisfied: gast!=0.5.0,!=0.5.1,!=0.5.2,>=0.2.1 in c:\\users\\hp\\anaconda3\\lib\\site-packages (from tensorflow-intel==2.15.0->tensorflow) (0.5.4)\n",
      "Requirement already satisfied: google-pasta>=0.1.1 in c:\\users\\hp\\anaconda3\\lib\\site-packages (from tensorflow-intel==2.15.0->tensorflow) (0.2.0)\n",
      "Requirement already satisfied: h5py>=2.9.0 in c:\\users\\hp\\anaconda3\\lib\\site-packages (from tensorflow-intel==2.15.0->tensorflow) (3.9.0)\n",
      "Requirement already satisfied: libclang>=13.0.0 in c:\\users\\hp\\anaconda3\\lib\\site-packages (from tensorflow-intel==2.15.0->tensorflow) (16.0.6)\n",
      "Requirement already satisfied: ml-dtypes~=0.2.0 in c:\\users\\hp\\anaconda3\\lib\\site-packages (from tensorflow-intel==2.15.0->tensorflow) (0.2.0)\n",
      "Requirement already satisfied: numpy<2.0.0,>=1.23.5 in c:\\users\\hp\\anaconda3\\lib\\site-packages (from tensorflow-intel==2.15.0->tensorflow) (1.24.3)\n",
      "Requirement already satisfied: opt-einsum>=2.3.2 in c:\\users\\hp\\anaconda3\\lib\\site-packages (from tensorflow-intel==2.15.0->tensorflow) (3.3.0)\n",
      "Requirement already satisfied: packaging in c:\\users\\hp\\anaconda3\\lib\\site-packages (from tensorflow-intel==2.15.0->tensorflow) (23.1)\n",
      "Requirement already satisfied: protobuf!=4.21.0,!=4.21.1,!=4.21.2,!=4.21.3,!=4.21.4,!=4.21.5,<5.0.0dev,>=3.20.3 in c:\\users\\hp\\anaconda3\\lib\\site-packages (from tensorflow-intel==2.15.0->tensorflow) (4.23.4)\n",
      "Requirement already satisfied: setuptools in c:\\users\\hp\\anaconda3\\lib\\site-packages (from tensorflow-intel==2.15.0->tensorflow) (68.0.0)\n",
      "Requirement already satisfied: six>=1.12.0 in c:\\users\\hp\\anaconda3\\lib\\site-packages (from tensorflow-intel==2.15.0->tensorflow) (1.16.0)\n",
      "Requirement already satisfied: termcolor>=1.1.0 in c:\\users\\hp\\anaconda3\\lib\\site-packages (from tensorflow-intel==2.15.0->tensorflow) (2.4.0)\n",
      "Requirement already satisfied: typing-extensions>=3.6.6 in c:\\users\\hp\\anaconda3\\lib\\site-packages (from tensorflow-intel==2.15.0->tensorflow) (4.7.1)\n",
      "Requirement already satisfied: wrapt<1.15,>=1.11.0 in c:\\users\\hp\\anaconda3\\lib\\site-packages (from tensorflow-intel==2.15.0->tensorflow) (1.14.1)\n",
      "Requirement already satisfied: tensorflow-io-gcs-filesystem>=0.23.1 in c:\\users\\hp\\anaconda3\\lib\\site-packages (from tensorflow-intel==2.15.0->tensorflow) (0.31.0)\n",
      "Requirement already satisfied: grpcio<2.0,>=1.24.3 in c:\\users\\hp\\anaconda3\\lib\\site-packages (from tensorflow-intel==2.15.0->tensorflow) (1.60.0)\n",
      "Requirement already satisfied: tensorboard<2.16,>=2.15 in c:\\users\\hp\\anaconda3\\lib\\site-packages (from tensorflow-intel==2.15.0->tensorflow) (2.15.1)\n",
      "Requirement already satisfied: tensorflow-estimator<2.16,>=2.15.0 in c:\\users\\hp\\anaconda3\\lib\\site-packages (from tensorflow-intel==2.15.0->tensorflow) (2.15.0)\n",
      "Collecting keras<2.16,>=2.15.0 (from tensorflow-intel==2.15.0->tensorflow)\n",
      "  Obtaining dependency information for keras<2.16,>=2.15.0 from https://files.pythonhosted.org/packages/fc/a7/0d4490de967a67f68a538cc9cdb259bff971c4b5787f7765dc7c8f118f71/keras-2.15.0-py3-none-any.whl.metadata\n",
      "  Using cached keras-2.15.0-py3-none-any.whl.metadata (2.4 kB)\n",
      "Requirement already satisfied: wheel<1.0,>=0.23.0 in c:\\users\\hp\\anaconda3\\lib\\site-packages (from astunparse>=1.6.0->tensorflow-intel==2.15.0->tensorflow) (0.38.4)\n",
      "Requirement already satisfied: google-auth<3,>=1.6.3 in c:\\users\\hp\\anaconda3\\lib\\site-packages (from tensorboard<2.16,>=2.15->tensorflow-intel==2.15.0->tensorflow) (2.25.1)\n",
      "Requirement already satisfied: google-auth-oauthlib<2,>=0.5 in c:\\users\\hp\\anaconda3\\lib\\site-packages (from tensorboard<2.16,>=2.15->tensorflow-intel==2.15.0->tensorflow) (1.1.0)\n",
      "Requirement already satisfied: markdown>=2.6.8 in c:\\users\\hp\\anaconda3\\lib\\site-packages (from tensorboard<2.16,>=2.15->tensorflow-intel==2.15.0->tensorflow) (3.4.1)\n",
      "Requirement already satisfied: requests<3,>=2.21.0 in c:\\users\\hp\\anaconda3\\lib\\site-packages (from tensorboard<2.16,>=2.15->tensorflow-intel==2.15.0->tensorflow) (2.31.0)\n",
      "Requirement already satisfied: tensorboard-data-server<0.8.0,>=0.7.0 in c:\\users\\hp\\anaconda3\\lib\\site-packages (from tensorboard<2.16,>=2.15->tensorflow-intel==2.15.0->tensorflow) (0.7.2)\n",
      "Requirement already satisfied: werkzeug>=1.0.1 in c:\\users\\hp\\anaconda3\\lib\\site-packages (from tensorboard<2.16,>=2.15->tensorflow-intel==2.15.0->tensorflow) (2.2.3)\n",
      "Requirement already satisfied: cachetools<6.0,>=2.0.0 in c:\\users\\hp\\anaconda3\\lib\\site-packages (from google-auth<3,>=1.6.3->tensorboard<2.16,>=2.15->tensorflow-intel==2.15.0->tensorflow) (5.3.2)\n",
      "Requirement already satisfied: pyasn1-modules>=0.2.1 in c:\\users\\hp\\anaconda3\\lib\\site-packages (from google-auth<3,>=1.6.3->tensorboard<2.16,>=2.15->tensorflow-intel==2.15.0->tensorflow) (0.2.8)\n",
      "Requirement already satisfied: rsa<5,>=3.1.4 in c:\\users\\hp\\anaconda3\\lib\\site-packages (from google-auth<3,>=1.6.3->tensorboard<2.16,>=2.15->tensorflow-intel==2.15.0->tensorflow) (4.9)\n",
      "Requirement already satisfied: requests-oauthlib>=0.7.0 in c:\\users\\hp\\anaconda3\\lib\\site-packages (from google-auth-oauthlib<2,>=0.5->tensorboard<2.16,>=2.15->tensorflow-intel==2.15.0->tensorflow) (1.3.1)\n",
      "Requirement already satisfied: charset-normalizer<4,>=2 in c:\\users\\hp\\anaconda3\\lib\\site-packages (from requests<3,>=2.21.0->tensorboard<2.16,>=2.15->tensorflow-intel==2.15.0->tensorflow) (2.0.4)\n",
      "Requirement already satisfied: idna<4,>=2.5 in c:\\users\\hp\\anaconda3\\lib\\site-packages (from requests<3,>=2.21.0->tensorboard<2.16,>=2.15->tensorflow-intel==2.15.0->tensorflow) (3.4)\n",
      "Requirement already satisfied: urllib3<3,>=1.21.1 in c:\\users\\hp\\anaconda3\\lib\\site-packages (from requests<3,>=2.21.0->tensorboard<2.16,>=2.15->tensorflow-intel==2.15.0->tensorflow) (1.26.16)\n",
      "Requirement already satisfied: certifi>=2017.4.17 in c:\\users\\hp\\anaconda3\\lib\\site-packages (from requests<3,>=2.21.0->tensorboard<2.16,>=2.15->tensorflow-intel==2.15.0->tensorflow) (2023.11.17)\n",
      "Requirement already satisfied: MarkupSafe>=2.1.1 in c:\\users\\hp\\anaconda3\\lib\\site-packages (from werkzeug>=1.0.1->tensorboard<2.16,>=2.15->tensorflow-intel==2.15.0->tensorflow) (2.1.1)\n",
      "Requirement already satisfied: pyasn1<0.5.0,>=0.4.6 in c:\\users\\hp\\anaconda3\\lib\\site-packages (from pyasn1-modules>=0.2.1->google-auth<3,>=1.6.3->tensorboard<2.16,>=2.15->tensorflow-intel==2.15.0->tensorflow) (0.4.8)\n",
      "Requirement already satisfied: oauthlib>=3.0.0 in c:\\users\\hp\\anaconda3\\lib\\site-packages (from requests-oauthlib>=0.7.0->google-auth-oauthlib<2,>=0.5->tensorboard<2.16,>=2.15->tensorflow-intel==2.15.0->tensorflow) (3.2.2)\n",
      "Using cached keras-2.15.0-py3-none-any.whl (1.7 MB)\n",
      "Installing collected packages: keras\n",
      "  Attempting uninstall: keras\n",
      "    Found existing installation: keras 3.0.1\n",
      "    Uninstalling keras-3.0.1:\n",
      "      Successfully uninstalled keras-3.0.1\n",
      "Successfully installed keras-2.15.0\n"
     ]
    }
   ],
   "source": [
    "!pip install gensim --upgrade\n",
    "!pip install keras --upgrade\n",
    "!pip install pandas --upgrade\n",
    "!pip install tensorflow"
   ]
  },
  {
   "cell_type": "code",
   "execution_count": 2,
   "id": "c70457f9",
   "metadata": {
    "tags": []
   },
   "outputs": [
    {
     "name": "stdout",
     "output_type": "stream",
     "text": [
      "WARNING:tensorflow:From C:\\Users\\HP\\anaconda3\\Lib\\site-packages\\keras\\src\\losses.py:2976: The name tf.losses.sparse_softmax_cross_entropy is deprecated. Please use tf.compat.v1.losses.sparse_softmax_cross_entropy instead.\n",
      "\n"
     ]
    }
   ],
   "source": [
    "# DataFrame\n",
    "import pandas as pd\n",
    "\n",
    "# Matplot\n",
    "import matplotlib.pyplot as plt\n",
    "%matplotlib inline\n",
    "\n",
    "# Scikit-learn\n",
    "from sklearn.model_selection import train_test_split\n",
    "from sklearn.preprocessing import LabelEncoder\n",
    "from sklearn.metrics import confusion_matrix, classification_report, accuracy_score\n",
    "from sklearn.manifold import TSNE\n",
    "from sklearn.feature_extraction.text import TfidfVectorizer\n",
    "\n",
    "# Keras\n",
    "from keras.preprocessing.text import Tokenizer\n",
    "from keras.preprocessing.sequence import pad_sequences\n",
    "from keras.models import Sequential\n",
    "from keras.layers import Activation, Dense, Dropout, Embedding, Flatten, Conv1D, MaxPooling1D, LSTM\n",
    "from keras import utils\n",
    "from keras.callbacks import ReduceLROnPlateau, EarlyStopping\n",
    "\n",
    "# nltk\n",
    "import nltk\n",
    "from nltk.corpus import stopwords\n",
    "from  nltk.stem import SnowballStemmer\n",
    "\n",
    "# Word2vec\n",
    "import gensim\n",
    "\n",
    "# Utility\n",
    "import re\n",
    "import numpy as np\n",
    "import os\n",
    "from collections import Counter\n",
    "import logging\n",
    "import time\n",
    "import pickle\n",
    "import itertools\n",
    "\n",
    "# Set log\n",
    "logging.basicConfig(format='%(asctime)s : %(levelname)s : %(message)s', level=logging.INFO)"
   ]
  },
  {
   "cell_type": "code",
   "execution_count": 3,
   "id": "d02c45dd",
   "metadata": {
    "tags": []
   },
   "outputs": [
    {
     "name": "stderr",
     "output_type": "stream",
     "text": [
      "[nltk_data] Downloading package stopwords to\n",
      "[nltk_data]     C:\\Users\\HP\\AppData\\Roaming\\nltk_data...\n",
      "[nltk_data]   Package stopwords is already up-to-date!\n"
     ]
    },
    {
     "data": {
      "text/plain": [
       "True"
      ]
     },
     "execution_count": 3,
     "metadata": {},
     "output_type": "execute_result"
    }
   ],
   "source": [
    "nltk.download('stopwords')"
   ]
  },
  {
   "cell_type": "code",
   "execution_count": 4,
   "id": "73bc6143",
   "metadata": {
    "tags": []
   },
   "outputs": [],
   "source": [
    "# DATASET\n",
    "DATASET_COLUMNS = [\"target\", \"ids\", \"date\", \"flag\", \"user\", \"text\"]\n",
    "DATASET_ENCODING = \"ISO-8859-1\"\n",
    "TRAIN_SIZE = 0.8\n",
    "\n",
    "# TEXT CLENAING\n",
    "TEXT_CLEANING_RE = \"@\\S+|https?:\\S+|http?:\\S|[^A-Za-z0-9]+\"\n",
    "\n",
    "# WORD2VEC \n",
    "W2V_SIZE = 300\n",
    "W2V_WINDOW = 7\n",
    "W2V_EPOCH = 32\n",
    "W2V_MIN_COUNT = 10\n",
    "\n",
    "# KERAS\n",
    "SEQUENCE_LENGTH = 300\n",
    "EPOCHS = 8\n",
    "BATCH_SIZE = 1024\n",
    "\n",
    "# SENTIMENT\n",
    "POSITIVE = \"POSITIVE\"\n",
    "NEGATIVE = \"NEGATIVE\"\n",
    "NEUTRAL = \"NEUTRAL\"\n",
    "SENTIMENT_THRESHOLDS = (0.4, 0.7)\n",
    "\n",
    "# EXPORT\n",
    "KERAS_MODEL = \"model.h5\"\n",
    "WORD2VEC_MODEL = \"model.w2v\"\n",
    "TOKENIZER_MODEL = \"tokenizer.pkl\"\n",
    "ENCODER_MODEL = \"encoder.pkl\""
   ]
  },
  {
   "cell_type": "code",
   "execution_count": 5,
   "id": "8c3afe10",
   "metadata": {
    "tags": []
   },
   "outputs": [
    {
     "name": "stdout",
     "output_type": "stream",
     "text": [
      "Open file: C:\\Users\\HP\\Desktop\\training.1600000.processed.noemoticon.csv\n"
     ]
    }
   ],
   "source": [
    "# Specify the absolute path to the dataset\n",
    "dataset_path = r\"C:\\Users\\HP\\Desktop\\training.1600000.processed.noemoticon.csv\"\n",
    "\n",
    "# Print information about the dataset\n",
    "print(\"Open file:\", dataset_path)\n",
    "\n",
    "# Read the dataset into a DataFrame\n",
    "df = pd.read_csv(dataset_path, encoding=DATASET_ENCODING, names=DATASET_COLUMNS)\n"
   ]
  },
  {
   "cell_type": "code",
   "execution_count": 6,
   "id": "9a63fafc",
   "metadata": {
    "tags": []
   },
   "outputs": [
    {
     "name": "stdout",
     "output_type": "stream",
     "text": [
      "Dataset size: 1600000\n"
     ]
    }
   ],
   "source": [
    "print(\"Dataset size:\", len(df))"
   ]
  },
  {
   "cell_type": "code",
   "execution_count": 7,
   "id": "c0acd252",
   "metadata": {
    "tags": []
   },
   "outputs": [
    {
     "data": {
      "text/html": [
       "<div>\n",
       "<style scoped>\n",
       "    .dataframe tbody tr th:only-of-type {\n",
       "        vertical-align: middle;\n",
       "    }\n",
       "\n",
       "    .dataframe tbody tr th {\n",
       "        vertical-align: top;\n",
       "    }\n",
       "\n",
       "    .dataframe thead th {\n",
       "        text-align: right;\n",
       "    }\n",
       "</style>\n",
       "<table border=\"1\" class=\"dataframe\">\n",
       "  <thead>\n",
       "    <tr style=\"text-align: right;\">\n",
       "      <th></th>\n",
       "      <th>target</th>\n",
       "      <th>ids</th>\n",
       "      <th>date</th>\n",
       "      <th>flag</th>\n",
       "      <th>user</th>\n",
       "      <th>text</th>\n",
       "    </tr>\n",
       "  </thead>\n",
       "  <tbody>\n",
       "    <tr>\n",
       "      <th>0</th>\n",
       "      <td>0</td>\n",
       "      <td>1467810369</td>\n",
       "      <td>Mon Apr 06 22:19:45 PDT 2009</td>\n",
       "      <td>NO_QUERY</td>\n",
       "      <td>_TheSpecialOne_</td>\n",
       "      <td>@switchfoot http://twitpic.com/2y1zl - Awww, t...</td>\n",
       "    </tr>\n",
       "    <tr>\n",
       "      <th>1</th>\n",
       "      <td>0</td>\n",
       "      <td>1467810672</td>\n",
       "      <td>Mon Apr 06 22:19:49 PDT 2009</td>\n",
       "      <td>NO_QUERY</td>\n",
       "      <td>scotthamilton</td>\n",
       "      <td>is upset that he can't update his Facebook by ...</td>\n",
       "    </tr>\n",
       "    <tr>\n",
       "      <th>2</th>\n",
       "      <td>0</td>\n",
       "      <td>1467810917</td>\n",
       "      <td>Mon Apr 06 22:19:53 PDT 2009</td>\n",
       "      <td>NO_QUERY</td>\n",
       "      <td>mattycus</td>\n",
       "      <td>@Kenichan I dived many times for the ball. Man...</td>\n",
       "    </tr>\n",
       "    <tr>\n",
       "      <th>3</th>\n",
       "      <td>0</td>\n",
       "      <td>1467811184</td>\n",
       "      <td>Mon Apr 06 22:19:57 PDT 2009</td>\n",
       "      <td>NO_QUERY</td>\n",
       "      <td>ElleCTF</td>\n",
       "      <td>my whole body feels itchy and like its on fire</td>\n",
       "    </tr>\n",
       "    <tr>\n",
       "      <th>4</th>\n",
       "      <td>0</td>\n",
       "      <td>1467811193</td>\n",
       "      <td>Mon Apr 06 22:19:57 PDT 2009</td>\n",
       "      <td>NO_QUERY</td>\n",
       "      <td>Karoli</td>\n",
       "      <td>@nationwideclass no, it's not behaving at all....</td>\n",
       "    </tr>\n",
       "  </tbody>\n",
       "</table>\n",
       "</div>"
      ],
      "text/plain": [
       "   target         ids                          date      flag  \\\n",
       "0       0  1467810369  Mon Apr 06 22:19:45 PDT 2009  NO_QUERY   \n",
       "1       0  1467810672  Mon Apr 06 22:19:49 PDT 2009  NO_QUERY   \n",
       "2       0  1467810917  Mon Apr 06 22:19:53 PDT 2009  NO_QUERY   \n",
       "3       0  1467811184  Mon Apr 06 22:19:57 PDT 2009  NO_QUERY   \n",
       "4       0  1467811193  Mon Apr 06 22:19:57 PDT 2009  NO_QUERY   \n",
       "\n",
       "              user                                               text  \n",
       "0  _TheSpecialOne_  @switchfoot http://twitpic.com/2y1zl - Awww, t...  \n",
       "1    scotthamilton  is upset that he can't update his Facebook by ...  \n",
       "2         mattycus  @Kenichan I dived many times for the ball. Man...  \n",
       "3          ElleCTF    my whole body feels itchy and like its on fire   \n",
       "4           Karoli  @nationwideclass no, it's not behaving at all....  "
      ]
     },
     "execution_count": 7,
     "metadata": {},
     "output_type": "execute_result"
    }
   ],
   "source": [
    "df.head(5)"
   ]
  },
  {
   "cell_type": "code",
   "execution_count": 8,
   "id": "54371547",
   "metadata": {
    "tags": []
   },
   "outputs": [],
   "source": [
    "decode_map = {0: \"NEGATIVE\", 2: \"NEUTRAL\", 4: \"POSITIVE\"}\n",
    "def decode_sentiment(label):\n",
    "    return decode_map[int(label)]"
   ]
  },
  {
   "cell_type": "code",
   "execution_count": 9,
   "id": "64056a94",
   "metadata": {
    "tags": []
   },
   "outputs": [
    {
     "name": "stdout",
     "output_type": "stream",
     "text": [
      "CPU times: total: 125 ms\n",
      "Wall time: 256 ms\n"
     ]
    }
   ],
   "source": [
    "%%time\n",
    "df.target = df.target.apply(lambda x: decode_sentiment(x))"
   ]
  },
  {
   "cell_type": "code",
   "execution_count": 10,
   "id": "06c9c0a4",
   "metadata": {
    "tags": []
   },
   "outputs": [
    {
     "data": {
      "text/plain": [
       "Text(0.5, 1.0, 'Dataset labels distribuition')"
      ]
     },
     "execution_count": 10,
     "metadata": {},
     "output_type": "execute_result"
    },
    {
     "data": {
      "image/png": "[encoded data removed]",
      "text/plain": [
       "<Figure size 1600x800 with 1 Axes>"
      ]
     },
     "metadata": {},
     "output_type": "display_data"
    }
   ],
   "source": [
    "target_cnt = Counter(df.target)\n",
    "\n",
    "plt.figure(figsize=(16,8))\n",
    "plt.bar(target_cnt.keys(), target_cnt.values())\n",
    "plt.title(\"Dataset labels distribuition\")"
   ]
  },
  {
   "cell_type": "code",
   "execution_count": 11,
   "id": "df145091",
   "metadata": {
    "tags": []
   },
   "outputs": [],
   "source": [
    "stop_words = stopwords.words(\"english\")\n",
    "stemmer = SnowballStemmer(\"english\")"
   ]
  },
  {
   "cell_type": "code",
   "execution_count": 12,
   "id": "bdebfa25",
   "metadata": {
    "tags": []
   },
   "outputs": [],
   "source": [
    "def preprocess(text, stem=False):\n",
    "    # Remove link,user and special characters\n",
    "    text = re.sub(TEXT_CLEANING_RE, ' ', str(text).lower()).strip()\n",
    "    tokens = []\n",
    "    for token in text.split():\n",
    "        if token not in stop_words:\n",
    "            if stem:\n",
    "                tokens.append(stemmer.stem(token))\n",
    "            else:\n",
    "                tokens.append(token)\n",
    "    return \" \".join(tokens)"
   ]
  },
  {
   "cell_type": "code",
   "execution_count": 13,
   "id": "047c2474",
   "metadata": {
    "tags": []
   },
   "outputs": [
    {
     "name": "stdout",
     "output_type": "stream",
     "text": [
      "CPU times: total: 31.5 s\n",
      "Wall time: 1min 12s\n"
     ]
    }
   ],
   "source": [
    "%%time\n",
    "df.text = df.text.apply(lambda x: preprocess(x))"
   ]
  },
  {
   "cell_type": "code",
   "execution_count": 14,
   "id": "422d33cb",
   "metadata": {
    "tags": []
   },
   "outputs": [
    {
     "name": "stdout",
     "output_type": "stream",
     "text": [
      "TRAIN size: 1280000\n",
      "TEST size: 320000\n"
     ]
    }
   ],
   "source": [
    "df_train, df_test = train_test_split(df, test_size=1-TRAIN_SIZE, random_state=42)\n",
    "print(\"TRAIN size:\", len(df_train))\n",
    "print(\"TEST size:\", len(df_test))"
   ]
  },
  {
   "cell_type": "code",
   "execution_count": 15,
   "id": "2196a135",
   "metadata": {
    "tags": []
   },
   "outputs": [
    {
     "name": "stdout",
     "output_type": "stream",
     "text": [
      "CPU times: total: 2.08 s\n",
      "Wall time: 4.75 s\n"
     ]
    }
   ],
   "source": [
    "%%time\n",
    "documents = [_text.split() for _text in df_train.text] "
   ]
  },
  {
   "cell_type": "code",
   "execution_count": 16,
   "id": "c82fae6b",
   "metadata": {
    "tags": []
   },
   "outputs": [
    {
     "name": "stderr",
     "output_type": "stream",
     "text": [
      "2023-12-08 23:16:40,815 : INFO : Word2Vec lifecycle event {'params': 'Word2Vec<vocab=0, vector_size=300, alpha=0.025>', 'datetime': '2023-12-08T23:16:40.815222', 'gensim': '4.3.2', 'python': '3.11.5 | packaged by Anaconda, Inc. | (main, Sep 11 2023, 13:26:23) [MSC v.1916 64 bit (AMD64)]', 'platform': 'Windows-10-10.0.22621-SP0', 'event': 'created'}\n"
     ]
    }
   ],
   "source": [
    "w2v_model = gensim.models.word2vec.Word2Vec(vector_size=W2V_SIZE, \n",
    "                                            window=W2V_WINDOW, \n",
    "                                            min_count=W2V_MIN_COUNT, \n",
    "                                            workers=8)\n"
   ]
  },
  {
   "cell_type": "code",
   "execution_count": 17,
   "id": "2d4f5ee0",
   "metadata": {
    "tags": []
   },
   "outputs": [
    {
     "name": "stderr",
     "output_type": "stream",
     "text": [
      "2023-12-08 23:16:45,585 : INFO : collecting all words and their counts\n",
      "2023-12-08 23:16:45,587 : INFO : PROGRESS: at sentence #0, processed 0 words, keeping 0 word types\n",
      "2023-12-08 23:16:45,613 : INFO : PROGRESS: at sentence #10000, processed 72565 words, keeping 14005 word types\n",
      "2023-12-08 23:16:45,631 : INFO : PROGRESS: at sentence #20000, processed 144393 words, keeping 21587 word types\n",
      "2023-12-08 23:16:45,648 : INFO : PROGRESS: at sentence #30000, processed 215826 words, keeping 27541 word types\n",
      "2023-12-08 23:16:45,665 : INFO : PROGRESS: at sentence #40000, processed 288271 words, keeping 32764 word types\n",
      "2023-12-08 23:16:45,695 : INFO : PROGRESS: at sentence #50000, processed 359772 words, keeping 37587 word types\n",
      "2023-12-08 23:16:45,720 : INFO : PROGRESS: at sentence #60000, processed 431431 words, keeping 42198 word types\n",
      "2023-12-08 23:16:45,738 : INFO : PROGRESS: at sentence #70000, processed 503103 words, keeping 46458 word types\n",
      "2023-12-08 23:16:45,753 : INFO : PROGRESS: at sentence #80000, processed 575709 words, keeping 50476 word types\n",
      "2023-12-08 23:16:45,770 : INFO : PROGRESS: at sentence #90000, processed 647100 words, keeping 54140 word types\n",
      "2023-12-08 23:16:45,791 : INFO : PROGRESS: at sentence #100000, processed 718681 words, keeping 57777 word types\n",
      "2023-12-08 23:16:45,813 : INFO : PROGRESS: at sentence #110000, processed 790696 words, keeping 61207 word types\n",
      "2023-12-08 23:16:45,841 : INFO : PROGRESS: at sentence #120000, processed 863134 words, keeping 64583 word types\n",
      "2023-12-08 23:16:45,877 : INFO : PROGRESS: at sentence #130000, processed 935111 words, keeping 67865 word types\n",
      "2023-12-08 23:16:45,906 : INFO : PROGRESS: at sentence #140000, processed 1006668 words, keeping 70966 word types\n",
      "2023-12-08 23:16:45,923 : INFO : PROGRESS: at sentence #150000, processed 1078512 words, keeping 74119 word types\n",
      "2023-12-08 23:16:45,946 : INFO : PROGRESS: at sentence #160000, processed 1149914 words, keeping 77187 word types\n",
      "2023-12-08 23:16:45,968 : INFO : PROGRESS: at sentence #170000, processed 1222145 words, keeping 80267 word types\n",
      "2023-12-08 23:16:45,990 : INFO : PROGRESS: at sentence #180000, processed 1294708 words, keeping 83393 word types\n",
      "2023-12-08 23:16:46,007 : INFO : PROGRESS: at sentence #190000, processed 1367608 words, keeping 86329 word types\n",
      "2023-12-08 23:16:46,027 : INFO : PROGRESS: at sentence #200000, processed 1439469 words, keeping 89103 word types\n",
      "2023-12-08 23:16:46,044 : INFO : PROGRESS: at sentence #210000, processed 1512099 words, keeping 91840 word types\n",
      "2023-12-08 23:16:46,061 : INFO : PROGRESS: at sentence #220000, processed 1584149 words, keeping 94636 word types\n",
      "2023-12-08 23:16:46,079 : INFO : PROGRESS: at sentence #230000, processed 1656354 words, keeping 97353 word types\n",
      "2023-12-08 23:16:46,096 : INFO : PROGRESS: at sentence #240000, processed 1728573 words, keeping 99975 word types\n",
      "2023-12-08 23:16:46,115 : INFO : PROGRESS: at sentence #250000, processed 1801102 words, keeping 102594 word types\n",
      "2023-12-08 23:16:46,144 : INFO : PROGRESS: at sentence #260000, processed 1873103 words, keeping 105162 word types\n",
      "2023-12-08 23:16:46,167 : INFO : PROGRESS: at sentence #270000, processed 1945245 words, keeping 107626 word types\n",
      "2023-12-08 23:16:46,184 : INFO : PROGRESS: at sentence #280000, processed 2017163 words, keeping 110141 word types\n",
      "2023-12-08 23:16:46,207 : INFO : PROGRESS: at sentence #290000, processed 2089574 words, keeping 112539 word types\n",
      "2023-12-08 23:16:46,231 : INFO : PROGRESS: at sentence #300000, processed 2160996 words, keeping 114893 word types\n",
      "2023-12-08 23:16:46,248 : INFO : PROGRESS: at sentence #310000, processed 2232913 words, keeping 117298 word types\n",
      "2023-12-08 23:16:46,265 : INFO : PROGRESS: at sentence #320000, processed 2305039 words, keeping 119693 word types\n",
      "2023-12-08 23:16:46,283 : INFO : PROGRESS: at sentence #330000, processed 2377119 words, keeping 122131 word types\n",
      "2023-12-08 23:16:46,305 : INFO : PROGRESS: at sentence #340000, processed 2449370 words, keeping 124416 word types\n",
      "2023-12-08 23:16:46,329 : INFO : PROGRESS: at sentence #350000, processed 2521564 words, keeping 126669 word types\n",
      "2023-12-08 23:16:46,356 : INFO : PROGRESS: at sentence #360000, processed 2593681 words, keeping 128912 word types\n",
      "2023-12-08 23:16:46,377 : INFO : PROGRESS: at sentence #370000, processed 2665692 words, keeping 131135 word types\n",
      "2023-12-08 23:16:46,397 : INFO : PROGRESS: at sentence #380000, processed 2737859 words, keeping 133403 word types\n",
      "2023-12-08 23:16:46,415 : INFO : PROGRESS: at sentence #390000, processed 2809848 words, keeping 135551 word types\n",
      "2023-12-08 23:16:46,435 : INFO : PROGRESS: at sentence #400000, processed 2882438 words, keeping 137742 word types\n",
      "2023-12-08 23:16:46,459 : INFO : PROGRESS: at sentence #410000, processed 2954075 words, keeping 139909 word types\n",
      "2023-12-08 23:16:46,483 : INFO : PROGRESS: at sentence #420000, processed 3026247 words, keeping 142144 word types\n",
      "2023-12-08 23:16:46,506 : INFO : PROGRESS: at sentence #430000, processed 3098659 words, keeping 144364 word types\n",
      "2023-12-08 23:16:46,533 : INFO : PROGRESS: at sentence #440000, processed 3170663 words, keeping 146439 word types\n",
      "2023-12-08 23:16:46,564 : INFO : PROGRESS: at sentence #450000, processed 3243344 words, keeping 148526 word types\n",
      "2023-12-08 23:16:46,593 : INFO : PROGRESS: at sentence #460000, processed 3315466 words, keeping 150610 word types\n",
      "2023-12-08 23:16:46,613 : INFO : PROGRESS: at sentence #470000, processed 3388295 words, keeping 152737 word types\n",
      "2023-12-08 23:16:46,639 : INFO : PROGRESS: at sentence #480000, processed 3460120 words, keeping 154757 word types\n",
      "2023-12-08 23:16:46,658 : INFO : PROGRESS: at sentence #490000, processed 3531883 words, keeping 156825 word types\n",
      "2023-12-08 23:16:46,676 : INFO : PROGRESS: at sentence #500000, processed 3604217 words, keeping 158859 word types\n",
      "2023-12-08 23:16:46,692 : INFO : PROGRESS: at sentence #510000, processed 3676427 words, keeping 160852 word types\n",
      "2023-12-08 23:16:46,710 : INFO : PROGRESS: at sentence #520000, processed 3749045 words, keeping 162863 word types\n",
      "2023-12-08 23:16:46,733 : INFO : PROGRESS: at sentence #530000, processed 3821622 words, keeping 164929 word types\n",
      "2023-12-08 23:16:46,751 : INFO : PROGRESS: at sentence #540000, processed 3893627 words, keeping 166840 word types\n",
      "2023-12-08 23:16:46,767 : INFO : PROGRESS: at sentence #550000, processed 3965477 words, keeping 168799 word types\n",
      "2023-12-08 23:16:46,784 : INFO : PROGRESS: at sentence #560000, processed 4038050 words, keeping 170802 word types\n",
      "2023-12-08 23:16:46,804 : INFO : PROGRESS: at sentence #570000, processed 4110296 words, keeping 172760 word types\n",
      "2023-12-08 23:16:46,833 : INFO : PROGRESS: at sentence #580000, processed 4182385 words, keeping 174635 word types\n",
      "2023-12-08 23:16:46,871 : INFO : PROGRESS: at sentence #590000, processed 4254632 words, keeping 176470 word types\n",
      "2023-12-08 23:16:46,895 : INFO : PROGRESS: at sentence #600000, processed 4326859 words, keeping 178350 word types\n",
      "2023-12-08 23:16:46,928 : INFO : PROGRESS: at sentence #610000, processed 4399183 words, keeping 180290 word types\n",
      "2023-12-08 23:16:46,961 : INFO : PROGRESS: at sentence #620000, processed 4471343 words, keeping 182129 word types\n",
      "2023-12-08 23:16:46,985 : INFO : PROGRESS: at sentence #630000, processed 4543286 words, keeping 184005 word types\n",
      "2023-12-08 23:16:47,020 : INFO : PROGRESS: at sentence #640000, processed 4615780 words, keeping 185835 word types\n",
      "2023-12-08 23:16:47,054 : INFO : PROGRESS: at sentence #650000, processed 4688481 words, keeping 187705 word types\n",
      "2023-12-08 23:16:47,084 : INFO : PROGRESS: at sentence #660000, processed 4760481 words, keeping 189439 word types\n",
      "2023-12-08 23:16:47,105 : INFO : PROGRESS: at sentence #670000, processed 4833024 words, keeping 191232 word types\n",
      "2023-12-08 23:16:47,134 : INFO : PROGRESS: at sentence #680000, processed 4904516 words, keeping 193177 word types\n",
      "2023-12-08 23:16:47,168 : INFO : PROGRESS: at sentence #690000, processed 4976968 words, keeping 194960 word types\n",
      "2023-12-08 23:16:47,192 : INFO : PROGRESS: at sentence #700000, processed 5049412 words, keeping 196725 word types\n",
      "2023-12-08 23:16:47,213 : INFO : PROGRESS: at sentence #710000, processed 5121976 words, keeping 198516 word types\n",
      "2023-12-08 23:16:47,234 : INFO : PROGRESS: at sentence #720000, processed 5193881 words, keeping 200325 word types\n",
      "2023-12-08 23:16:47,255 : INFO : PROGRESS: at sentence #730000, processed 5265467 words, keeping 202133 word types\n",
      "2023-12-08 23:16:47,287 : INFO : PROGRESS: at sentence #740000, processed 5337518 words, keeping 203818 word types\n",
      "2023-12-08 23:16:47,318 : INFO : PROGRESS: at sentence #750000, processed 5409321 words, keeping 205535 word types\n",
      "2023-12-08 23:16:47,339 : INFO : PROGRESS: at sentence #760000, processed 5481512 words, keeping 207282 word types\n",
      "2023-12-08 23:16:47,362 : INFO : PROGRESS: at sentence #770000, processed 5554093 words, keeping 209076 word types\n",
      "2023-12-08 23:16:47,392 : INFO : PROGRESS: at sentence #780000, processed 5625382 words, keeping 210805 word types\n",
      "2023-12-08 23:16:47,419 : INFO : PROGRESS: at sentence #790000, processed 5698066 words, keeping 212618 word types\n",
      "2023-12-08 23:16:47,449 : INFO : PROGRESS: at sentence #800000, processed 5770880 words, keeping 214374 word types\n",
      "2023-12-08 23:16:47,477 : INFO : PROGRESS: at sentence #810000, processed 5843418 words, keeping 216009 word types\n",
      "2023-12-08 23:16:47,496 : INFO : PROGRESS: at sentence #820000, processed 5915628 words, keeping 217804 word types\n",
      "2023-12-08 23:16:47,525 : INFO : PROGRESS: at sentence #830000, processed 5987499 words, keeping 219585 word types\n",
      "2023-12-08 23:16:47,548 : INFO : PROGRESS: at sentence #840000, processed 6058973 words, keeping 221344 word types\n",
      "2023-12-08 23:16:47,567 : INFO : PROGRESS: at sentence #850000, processed 6131125 words, keeping 223002 word types\n",
      "2023-12-08 23:16:47,588 : INFO : PROGRESS: at sentence #860000, processed 6202951 words, keeping 224643 word types\n",
      "2023-12-08 23:16:47,605 : INFO : PROGRESS: at sentence #870000, processed 6275461 words, keeping 226362 word types\n",
      "2023-12-08 23:16:47,624 : INFO : PROGRESS: at sentence #880000, processed 6347661 words, keeping 227986 word types\n",
      "2023-12-08 23:16:47,640 : INFO : PROGRESS: at sentence #890000, processed 6419806 words, keeping 229634 word types\n",
      "2023-12-08 23:16:47,661 : INFO : PROGRESS: at sentence #900000, processed 6491644 words, keeping 231389 word types\n",
      "2023-12-08 23:16:47,680 : INFO : PROGRESS: at sentence #910000, processed 6564022 words, keeping 233050 word types\n",
      "2023-12-08 23:16:47,708 : INFO : PROGRESS: at sentence #920000, processed 6636228 words, keeping 234686 word types\n",
      "2023-12-08 23:16:47,744 : INFO : PROGRESS: at sentence #930000, processed 6708573 words, keeping 236393 word types\n",
      "2023-12-08 23:16:47,770 : INFO : PROGRESS: at sentence #940000, processed 6779956 words, keeping 238052 word types\n",
      "2023-12-08 23:16:47,805 : INFO : PROGRESS: at sentence #950000, processed 6852599 words, keeping 239716 word types\n",
      "2023-12-08 23:16:47,839 : INFO : PROGRESS: at sentence #960000, processed 6924717 words, keeping 241354 word types\n",
      "2023-12-08 23:16:47,875 : INFO : PROGRESS: at sentence #970000, processed 6996992 words, keeping 242980 word types\n",
      "2023-12-08 23:16:47,903 : INFO : PROGRESS: at sentence #980000, processed 7068402 words, keeping 244646 word types\n",
      "2023-12-08 23:16:47,922 : INFO : PROGRESS: at sentence #990000, processed 7140346 words, keeping 246186 word types\n",
      "2023-12-08 23:16:47,952 : INFO : PROGRESS: at sentence #1000000, processed 7211757 words, keeping 247726 word types\n",
      "2023-12-08 23:16:47,984 : INFO : PROGRESS: at sentence #1010000, processed 7283267 words, keeping 249288 word types\n",
      "2023-12-08 23:16:48,010 : INFO : PROGRESS: at sentence #1020000, processed 7355299 words, keeping 250860 word types\n",
      "2023-12-08 23:16:48,039 : INFO : PROGRESS: at sentence #1030000, processed 7426918 words, keeping 252366 word types\n",
      "2023-12-08 23:16:48,058 : INFO : PROGRESS: at sentence #1040000, processed 7498815 words, keeping 253930 word types\n",
      "2023-12-08 23:16:48,078 : INFO : PROGRESS: at sentence #1050000, processed 7570499 words, keeping 255471 word types\n",
      "2023-12-08 23:16:48,107 : INFO : PROGRESS: at sentence #1060000, processed 7643251 words, keeping 257035 word types\n",
      "2023-12-08 23:16:48,134 : INFO : PROGRESS: at sentence #1070000, processed 7714721 words, keeping 258509 word types\n",
      "2023-12-08 23:16:48,170 : INFO : PROGRESS: at sentence #1080000, processed 7787371 words, keeping 260071 word types\n",
      "2023-12-08 23:16:48,203 : INFO : PROGRESS: at sentence #1090000, processed 7859336 words, keeping 261683 word types\n",
      "2023-12-08 23:16:48,239 : INFO : PROGRESS: at sentence #1100000, processed 7932029 words, keeping 263278 word types\n",
      "2023-12-08 23:16:48,270 : INFO : PROGRESS: at sentence #1110000, processed 8004146 words, keeping 264800 word types\n",
      "2023-12-08 23:16:48,306 : INFO : PROGRESS: at sentence #1120000, processed 8075880 words, keeping 266309 word types\n",
      "2023-12-08 23:16:48,336 : INFO : PROGRESS: at sentence #1130000, processed 8148163 words, keeping 267826 word types\n",
      "2023-12-08 23:16:48,366 : INFO : PROGRESS: at sentence #1140000, processed 8220487 words, keeping 269391 word types\n",
      "2023-12-08 23:16:48,395 : INFO : PROGRESS: at sentence #1150000, processed 8292498 words, keeping 270894 word types\n",
      "2023-12-08 23:16:48,436 : INFO : PROGRESS: at sentence #1160000, processed 8363838 words, keeping 272400 word types\n",
      "2023-12-08 23:16:48,473 : INFO : PROGRESS: at sentence #1170000, processed 8435510 words, keeping 273970 word types\n",
      "2023-12-08 23:16:48,512 : INFO : PROGRESS: at sentence #1180000, processed 8507795 words, keeping 275521 word types\n",
      "2023-12-08 23:16:48,535 : INFO : PROGRESS: at sentence #1190000, processed 8579080 words, keeping 277007 word types\n",
      "2023-12-08 23:16:48,568 : INFO : PROGRESS: at sentence #1200000, processed 8650606 words, keeping 278457 word types\n",
      "2023-12-08 23:16:48,608 : INFO : PROGRESS: at sentence #1210000, processed 8721893 words, keeping 279959 word types\n",
      "2023-12-08 23:16:48,646 : INFO : PROGRESS: at sentence #1220000, processed 8793795 words, keeping 281427 word types\n",
      "2023-12-08 23:16:48,679 : INFO : PROGRESS: at sentence #1230000, processed 8865726 words, keeping 282981 word types\n",
      "2023-12-08 23:16:48,712 : INFO : PROGRESS: at sentence #1240000, processed 8938173 words, keeping 284542 word types\n",
      "2023-12-08 23:16:48,740 : INFO : PROGRESS: at sentence #1250000, processed 9010842 words, keeping 286064 word types\n",
      "2023-12-08 23:16:48,765 : INFO : PROGRESS: at sentence #1260000, processed 9083261 words, keeping 287521 word types\n",
      "2023-12-08 23:16:48,790 : INFO : PROGRESS: at sentence #1270000, processed 9155616 words, keeping 288987 word types\n",
      "2023-12-08 23:16:48,822 : INFO : collected 290418 word types from a corpus of 9227204 raw words and 1280000 sentences\n",
      "2023-12-08 23:16:48,823 : INFO : Creating a fresh vocabulary\n",
      "2023-12-08 23:16:49,174 : INFO : Word2Vec lifecycle event {'msg': 'effective_min_count=10 retains 30369 unique words (10.46% of original 290418, drops 260049)', 'datetime': '2023-12-08T23:16:49.174133', 'gensim': '4.3.2', 'python': '3.11.5 | packaged by Anaconda, Inc. | (main, Sep 11 2023, 13:26:23) [MSC v.1916 64 bit (AMD64)]', 'platform': 'Windows-10-10.0.22621-SP0', 'event': 'prepare_vocab'}\n",
      "2023-12-08 23:16:49,175 : INFO : Word2Vec lifecycle event {'msg': 'effective_min_count=10 leaves 8780739 word corpus (95.16% of original 9227204, drops 446465)', 'datetime': '2023-12-08T23:16:49.175741', 'gensim': '4.3.2', 'python': '3.11.5 | packaged by Anaconda, Inc. | (main, Sep 11 2023, 13:26:23) [MSC v.1916 64 bit (AMD64)]', 'platform': 'Windows-10-10.0.22621-SP0', 'event': 'prepare_vocab'}\n",
      "2023-12-08 23:16:49,433 : INFO : deleting the raw counts dictionary of 290418 items\n",
      "2023-12-08 23:16:49,440 : INFO : sample=0.001 downsamples 45 most-common words\n",
      "2023-12-08 23:16:49,442 : INFO : Word2Vec lifecycle event {'msg': 'downsampling leaves estimated 8222658.616429881 word corpus (93.6%% of prior 8780739)', 'datetime': '2023-12-08T23:16:49.442009', 'gensim': '4.3.2', 'python': '3.11.5 | packaged by Anaconda, Inc. | (main, Sep 11 2023, 13:26:23) [MSC v.1916 64 bit (AMD64)]', 'platform': 'Windows-10-10.0.22621-SP0', 'event': 'prepare_vocab'}\n",
      "2023-12-08 23:16:50,095 : INFO : estimated required memory for 30369 words and 300 dimensions: 88070100 bytes\n",
      "2023-12-08 23:16:50,095 : INFO : resetting layer weights\n",
      "2023-12-08 23:16:50,162 : INFO : Word2Vec lifecycle event {'update': False, 'trim_rule': 'None', 'datetime': '2023-12-08T23:16:50.162503', 'gensim': '4.3.2', 'python': '3.11.5 | packaged by Anaconda, Inc. | (main, Sep 11 2023, 13:26:23) [MSC v.1916 64 bit (AMD64)]', 'platform': 'Windows-10-10.0.22621-SP0', 'event': 'build_vocab'}\n"
     ]
    }
   ],
   "source": [
    "w2v_model.build_vocab(documents)"
   ]
  },
  {
   "cell_type": "code",
   "execution_count": 18,
   "id": "18ade970",
   "metadata": {
    "tags": []
   },
   "outputs": [
    {
     "name": "stdout",
     "output_type": "stream",
     "text": [
      "Vocab size 30369\n"
     ]
    }
   ],
   "source": [
    "# Change the following line in Cell-20\n",
    "# words = w2v_model.wv.vocab.keys()\n",
    "\n",
    "# To the following, using key_to_index\n",
    "words = list(w2v_model.wv.key_to_index.keys())\n",
    "\n",
    "# Rest of the code remains unchanged\n",
    "vocab_size = len(words)\n",
    "print(\"Vocab size\", vocab_size)\n"
   ]
  },
  {
   "cell_type": "code",
   "execution_count": 19,
   "id": "c9fced19",
   "metadata": {
    "tags": []
   },
   "outputs": [
    {
     "name": "stderr",
     "output_type": "stream",
     "text": [
      "2023-12-08 23:17:13,740 : INFO : Word2Vec lifecycle event {'msg': 'training model with 8 workers on 30369 vocabulary and 300 features, using sg=0 hs=0 sample=0.001 negative=5 window=7 shrink_windows=True', 'datetime': '2023-12-08T23:17:13.740719', 'gensim': '4.3.2', 'python': '3.11.5 | packaged by Anaconda, Inc. | (main, Sep 11 2023, 13:26:23) [MSC v.1916 64 bit (AMD64)]', 'platform': 'Windows-10-10.0.22621-SP0', 'event': 'train'}\n",
      "2023-12-08 23:17:14,772 : INFO : EPOCH 0 - PROGRESS: at 17.46% examples, 1433789 words/s, in_qsize 15, out_qsize 0\n",
      "2023-12-08 23:17:15,773 : INFO : EPOCH 0 - PROGRESS: at 37.48% examples, 1540689 words/s, in_qsize 15, out_qsize 0\n",
      "2023-12-08 23:17:16,771 : INFO : EPOCH 0 - PROGRESS: at 57.27% examples, 1570434 words/s, in_qsize 16, out_qsize 0\n",
      "2023-12-08 23:17:17,774 : INFO : EPOCH 0 - PROGRESS: at 76.98% examples, 1582524 words/s, in_qsize 15, out_qsize 0\n",
      "2023-12-08 23:17:18,779 : INFO : EPOCH 0 - PROGRESS: at 97.40% examples, 1599541 words/s, in_qsize 15, out_qsize 0\n",
      "2023-12-08 23:17:18,880 : INFO : EPOCH 0: training on 9227204 raw words (8222386 effective words) took 5.1s, 1609521 effective words/s\n",
      "2023-12-08 23:17:19,906 : INFO : EPOCH 1 - PROGRESS: at 18.87% examples, 1538656 words/s, in_qsize 15, out_qsize 0\n",
      "2023-12-08 23:17:20,915 : INFO : EPOCH 1 - PROGRESS: at 38.89% examples, 1585930 words/s, in_qsize 15, out_qsize 0\n",
      "2023-12-08 23:17:21,922 : INFO : EPOCH 1 - PROGRESS: at 58.47% examples, 1591508 words/s, in_qsize 15, out_qsize 0\n",
      "2023-12-08 23:17:22,927 : INFO : EPOCH 1 - PROGRESS: at 77.74% examples, 1588189 words/s, in_qsize 14, out_qsize 1\n",
      "2023-12-08 23:17:23,933 : INFO : EPOCH 1 - PROGRESS: at 97.40% examples, 1590864 words/s, in_qsize 15, out_qsize 0\n",
      "2023-12-08 23:17:24,050 : INFO : EPOCH 1: training on 9227204 raw words (8223928 effective words) took 5.2s, 1596347 effective words/s\n",
      "2023-12-08 23:17:25,071 : INFO : EPOCH 2 - PROGRESS: at 17.24% examples, 1413556 words/s, in_qsize 15, out_qsize 0\n",
      "2023-12-08 23:17:26,073 : INFO : EPOCH 2 - PROGRESS: at 37.27% examples, 1528314 words/s, in_qsize 15, out_qsize 0\n",
      "2023-12-08 23:17:27,075 : INFO : EPOCH 2 - PROGRESS: at 55.97% examples, 1532490 words/s, in_qsize 14, out_qsize 1\n",
      "2023-12-08 23:17:28,078 : INFO : EPOCH 2 - PROGRESS: at 76.33% examples, 1566468 words/s, in_qsize 15, out_qsize 0\n",
      "2023-12-08 23:17:29,080 : INFO : EPOCH 2 - PROGRESS: at 96.21% examples, 1578556 words/s, in_qsize 15, out_qsize 0\n",
      "2023-12-08 23:17:29,252 : INFO : EPOCH 2: training on 9227204 raw words (8222202 effective words) took 5.2s, 1586495 effective words/s\n",
      "2023-12-08 23:17:30,275 : INFO : EPOCH 3 - PROGRESS: at 18.32% examples, 1500481 words/s, in_qsize 14, out_qsize 0\n",
      "2023-12-08 23:17:31,286 : INFO : EPOCH 3 - PROGRESS: at 39.22% examples, 1601334 words/s, in_qsize 16, out_qsize 1\n",
      "2023-12-08 23:17:32,287 : INFO : EPOCH 3 - PROGRESS: at 59.34% examples, 1619445 words/s, in_qsize 15, out_qsize 0\n",
      "2023-12-08 23:17:33,291 : INFO : EPOCH 3 - PROGRESS: at 80.14% examples, 1640108 words/s, in_qsize 16, out_qsize 0\n",
      "2023-12-08 23:17:34,244 : INFO : EPOCH 3: training on 9227204 raw words (8222293 effective words) took 5.0s, 1653958 effective words/s\n",
      "2023-12-08 23:17:35,265 : INFO : EPOCH 4 - PROGRESS: at 18.54% examples, 1518879 words/s, in_qsize 16, out_qsize 0\n",
      "2023-12-08 23:17:36,268 : INFO : EPOCH 4 - PROGRESS: at 39.33% examples, 1611579 words/s, in_qsize 16, out_qsize 0\n",
      "2023-12-08 23:17:37,269 : INFO : EPOCH 4 - PROGRESS: at 59.23% examples, 1620710 words/s, in_qsize 15, out_qsize 1\n",
      "2023-12-08 23:17:38,278 : INFO : EPOCH 4 - PROGRESS: at 79.49% examples, 1627926 words/s, in_qsize 14, out_qsize 1\n",
      "2023-12-08 23:17:39,281 : INFO : EPOCH 4 - PROGRESS: at 100.00% examples, 1638607 words/s, in_qsize 0, out_qsize 1\n",
      "2023-12-08 23:17:39,281 : INFO : EPOCH 4: training on 9227204 raw words (8223266 effective words) took 5.0s, 1638398 effective words/s\n",
      "2023-12-08 23:17:40,294 : INFO : EPOCH 5 - PROGRESS: at 19.40% examples, 1589316 words/s, in_qsize 16, out_qsize 0\n",
      "2023-12-08 23:17:41,296 : INFO : EPOCH 5 - PROGRESS: at 39.33% examples, 1613606 words/s, in_qsize 15, out_qsize 0\n",
      "2023-12-08 23:17:42,300 : INFO : EPOCH 5 - PROGRESS: at 58.90% examples, 1610919 words/s, in_qsize 16, out_qsize 0\n",
      "2023-12-08 23:17:43,304 : INFO : EPOCH 5 - PROGRESS: at 78.84% examples, 1616377 words/s, in_qsize 16, out_qsize 0\n",
      "2023-12-08 23:17:44,304 : INFO : EPOCH 5 - PROGRESS: at 99.12% examples, 1625933 words/s, in_qsize 9, out_qsize 0\n",
      "2023-12-08 23:17:44,336 : INFO : EPOCH 5: training on 9227204 raw words (8222791 effective words) took 5.0s, 1630114 effective words/s\n",
      "2023-12-08 23:17:45,371 : INFO : EPOCH 6 - PROGRESS: at 18.86% examples, 1534415 words/s, in_qsize 15, out_qsize 0\n",
      "2023-12-08 23:17:46,382 : INFO : EPOCH 6 - PROGRESS: at 38.35% examples, 1559924 words/s, in_qsize 15, out_qsize 0\n",
      "2023-12-08 23:17:47,393 : INFO : EPOCH 6 - PROGRESS: at 58.03% examples, 1574931 words/s, in_qsize 15, out_qsize 1\n",
      "2023-12-08 23:17:48,396 : INFO : EPOCH 6 - PROGRESS: at 77.85% examples, 1587320 words/s, in_qsize 14, out_qsize 1\n",
      "2023-12-08 23:17:49,401 : INFO : EPOCH 6 - PROGRESS: at 97.71% examples, 1593857 words/s, in_qsize 15, out_qsize 0\n",
      "2023-12-08 23:17:49,498 : INFO : EPOCH 6: training on 9227204 raw words (8221584 effective words) took 5.1s, 1600474 effective words/s\n",
      "2023-12-08 23:17:50,525 : INFO : EPOCH 7 - PROGRESS: at 19.51% examples, 1589468 words/s, in_qsize 15, out_qsize 0\n",
      "2023-12-08 23:17:51,532 : INFO : EPOCH 7 - PROGRESS: at 39.76% examples, 1621689 words/s, in_qsize 15, out_qsize 0\n",
      "2023-12-08 23:17:52,534 : INFO : EPOCH 7 - PROGRESS: at 60.74% examples, 1656324 words/s, in_qsize 15, out_qsize 0\n",
      "2023-12-08 23:17:53,536 : INFO : EPOCH 7 - PROGRESS: at 80.90% examples, 1655368 words/s, in_qsize 15, out_qsize 0\n",
      "2023-12-08 23:17:54,481 : INFO : EPOCH 7: training on 9227204 raw words (8222547 effective words) took 5.0s, 1656277 effective words/s\n",
      "2023-12-08 23:17:55,497 : INFO : EPOCH 8 - PROGRESS: at 18.65% examples, 1527004 words/s, in_qsize 16, out_qsize 0\n",
      "2023-12-08 23:17:56,501 : INFO : EPOCH 8 - PROGRESS: at 39.00% examples, 1597868 words/s, in_qsize 15, out_qsize 0\n",
      "2023-12-08 23:17:57,503 : INFO : EPOCH 8 - PROGRESS: at 59.01% examples, 1613876 words/s, in_qsize 15, out_qsize 0\n",
      "2023-12-08 23:17:58,507 : INFO : EPOCH 8 - PROGRESS: at 76.88% examples, 1576289 words/s, in_qsize 15, out_qsize 0\n",
      "2023-12-08 23:17:59,518 : INFO : EPOCH 8 - PROGRESS: at 96.75% examples, 1583151 words/s, in_qsize 16, out_qsize 0\n",
      "2023-12-08 23:17:59,663 : INFO : EPOCH 8: training on 9227204 raw words (8222743 effective words) took 5.2s, 1590722 effective words/s\n",
      "2023-12-08 23:18:00,681 : INFO : EPOCH 9 - PROGRESS: at 18.65% examples, 1530704 words/s, in_qsize 15, out_qsize 0\n",
      "2023-12-08 23:18:01,682 : INFO : EPOCH 9 - PROGRESS: at 39.54% examples, 1622910 words/s, in_qsize 15, out_qsize 0\n",
      "2023-12-08 23:18:02,686 : INFO : EPOCH 9 - PROGRESS: at 59.12% examples, 1617723 words/s, in_qsize 16, out_qsize 0\n",
      "2023-12-08 23:18:03,690 : INFO : EPOCH 9 - PROGRESS: at 78.51% examples, 1610484 words/s, in_qsize 15, out_qsize 0\n",
      "2023-12-08 23:18:04,692 : INFO : EPOCH 9 - PROGRESS: at 98.04% examples, 1608202 words/s, in_qsize 14, out_qsize 1\n",
      "2023-12-08 23:18:04,778 : INFO : EPOCH 9: training on 9227204 raw words (8222560 effective words) took 5.1s, 1613216 effective words/s\n",
      "2023-12-08 23:18:05,797 : INFO : EPOCH 10 - PROGRESS: at 17.78% examples, 1459368 words/s, in_qsize 15, out_qsize 0\n",
      "2023-12-08 23:18:06,798 : INFO : EPOCH 10 - PROGRESS: at 37.48% examples, 1539579 words/s, in_qsize 16, out_qsize 0\n",
      "2023-12-08 23:18:07,809 : INFO : EPOCH 10 - PROGRESS: at 57.06% examples, 1558794 words/s, in_qsize 15, out_qsize 1\n",
      "2023-12-08 23:18:08,813 : INFO : EPOCH 10 - PROGRESS: at 76.44% examples, 1565757 words/s, in_qsize 14, out_qsize 1\n",
      "2023-12-08 23:18:09,816 : INFO : EPOCH 10 - PROGRESS: at 95.99% examples, 1572215 words/s, in_qsize 15, out_qsize 0\n",
      "2023-12-08 23:18:10,019 : INFO : EPOCH 10: training on 9227204 raw words (8222782 effective words) took 5.2s, 1574187 effective words/s\n",
      "2023-12-08 23:18:11,046 : INFO : EPOCH 11 - PROGRESS: at 18.76% examples, 1539806 words/s, in_qsize 15, out_qsize 0\n",
      "2023-12-08 23:18:12,048 : INFO : EPOCH 11 - PROGRESS: at 38.89% examples, 1597278 words/s, in_qsize 15, out_qsize 0\n",
      "2023-12-08 23:18:13,055 : INFO : EPOCH 11 - PROGRESS: at 58.58% examples, 1601069 words/s, in_qsize 16, out_qsize 2\n",
      "2023-12-08 23:18:14,058 : INFO : EPOCH 11 - PROGRESS: at 79.16% examples, 1623005 words/s, in_qsize 14, out_qsize 1\n",
      "2023-12-08 23:18:15,055 : INFO : EPOCH 11: training on 9227204 raw words (8221960 effective words) took 5.0s, 1641599 effective words/s\n",
      "2023-12-08 23:18:16,074 : INFO : EPOCH 12 - PROGRESS: at 18.43% examples, 1511948 words/s, in_qsize 14, out_qsize 1\n",
      "2023-12-08 23:18:17,075 : INFO : EPOCH 12 - PROGRESS: at 37.81% examples, 1552992 words/s, in_qsize 15, out_qsize 0\n",
      "2023-12-08 23:18:18,076 : INFO : EPOCH 12 - PROGRESS: at 57.71% examples, 1581290 words/s, in_qsize 15, out_qsize 0\n",
      "2023-12-08 23:18:19,081 : INFO : EPOCH 12 - PROGRESS: at 77.74% examples, 1596124 words/s, in_qsize 15, out_qsize 0\n",
      "2023-12-08 23:18:20,088 : INFO : EPOCH 12 - PROGRESS: at 98.15% examples, 1609482 words/s, in_qsize 15, out_qsize 0\n",
      "2023-12-08 23:18:20,153 : INFO : EPOCH 12: training on 9227204 raw words (8223662 effective words) took 5.1s, 1618669 effective words/s\n",
      "2023-12-08 23:18:21,174 : INFO : EPOCH 13 - PROGRESS: at 18.54% examples, 1511221 words/s, in_qsize 15, out_qsize 0\n",
      "2023-12-08 23:18:22,182 : INFO : EPOCH 13 - PROGRESS: at 38.89% examples, 1586864 words/s, in_qsize 15, out_qsize 0\n",
      "2023-12-08 23:18:23,187 : INFO : EPOCH 13 - PROGRESS: at 59.23% examples, 1613437 words/s, in_qsize 15, out_qsize 0\n",
      "2023-12-08 23:18:24,198 : INFO : EPOCH 13 - PROGRESS: at 79.70% examples, 1626376 words/s, in_qsize 14, out_qsize 1\n",
      "2023-12-08 23:18:25,180 : INFO : EPOCH 13: training on 9227204 raw words (8223727 effective words) took 5.0s, 1640343 effective words/s\n",
      "2023-12-08 23:18:26,197 : INFO : EPOCH 14 - PROGRESS: at 18.32% examples, 1497973 words/s, in_qsize 14, out_qsize 1\n",
      "2023-12-08 23:18:27,197 : INFO : EPOCH 14 - PROGRESS: at 37.70% examples, 1546068 words/s, in_qsize 13, out_qsize 0\n",
      "2023-12-08 23:18:28,200 : INFO : EPOCH 14 - PROGRESS: at 57.27% examples, 1566848 words/s, in_qsize 15, out_qsize 0\n",
      "2023-12-08 23:18:29,204 : INFO : EPOCH 14 - PROGRESS: at 76.44% examples, 1567458 words/s, in_qsize 14, out_qsize 1\n",
      "2023-12-08 23:18:30,204 : INFO : EPOCH 14 - PROGRESS: at 95.77% examples, 1570857 words/s, in_qsize 15, out_qsize 0\n",
      "2023-12-08 23:18:30,391 : INFO : EPOCH 14: training on 9227204 raw words (8221579 effective words) took 5.2s, 1581475 effective words/s\n",
      "2023-12-08 23:18:31,413 : INFO : EPOCH 15 - PROGRESS: at 18.86% examples, 1542380 words/s, in_qsize 14, out_qsize 1\n",
      "2023-12-08 23:18:32,419 : INFO : EPOCH 15 - PROGRESS: at 37.92% examples, 1550899 words/s, in_qsize 16, out_qsize 0\n",
      "2023-12-08 23:18:33,427 : INFO : EPOCH 15 - PROGRESS: at 57.38% examples, 1564601 words/s, in_qsize 15, out_qsize 0\n",
      "2023-12-08 23:18:34,430 : INFO : EPOCH 15 - PROGRESS: at 76.55% examples, 1566049 words/s, in_qsize 16, out_qsize 0\n",
      "2023-12-08 23:18:35,434 : INFO : EPOCH 15 - PROGRESS: at 95.99% examples, 1570532 words/s, in_qsize 16, out_qsize 0\n",
      "2023-12-08 23:18:35,626 : INFO : EPOCH 15: training on 9227204 raw words (8222816 effective words) took 5.2s, 1576043 effective words/s\n",
      "2023-12-08 23:18:36,650 : INFO : EPOCH 16 - PROGRESS: at 18.00% examples, 1473300 words/s, in_qsize 16, out_qsize 0\n",
      "2023-12-08 23:18:37,659 : INFO : EPOCH 16 - PROGRESS: at 37.70% examples, 1540419 words/s, in_qsize 16, out_qsize 1\n",
      "2023-12-08 23:18:38,660 : INFO : EPOCH 16 - PROGRESS: at 57.38% examples, 1566692 words/s, in_qsize 15, out_qsize 0\n",
      "2023-12-08 23:18:39,675 : INFO : EPOCH 16 - PROGRESS: at 77.74% examples, 1587799 words/s, in_qsize 15, out_qsize 0\n",
      "2023-12-08 23:18:40,688 : INFO : EPOCH 16 - PROGRESS: at 97.82% examples, 1595151 words/s, in_qsize 15, out_qsize 0\n",
      "2023-12-08 23:18:40,796 : INFO : EPOCH 16: training on 9227204 raw words (8222513 effective words) took 5.1s, 1596694 effective words/s\n",
      "2023-12-08 23:18:41,831 : INFO : EPOCH 17 - PROGRESS: at 18.65% examples, 1513718 words/s, in_qsize 16, out_qsize 0\n",
      "2023-12-08 23:18:42,831 : INFO : EPOCH 17 - PROGRESS: at 38.14% examples, 1557939 words/s, in_qsize 15, out_qsize 0\n",
      "2023-12-08 23:18:43,842 : INFO : EPOCH 17 - PROGRESS: at 58.14% examples, 1582407 words/s, in_qsize 15, out_qsize 0\n",
      "2023-12-08 23:18:44,843 : INFO : EPOCH 17 - PROGRESS: at 77.42% examples, 1582904 words/s, in_qsize 15, out_qsize 0\n",
      "2023-12-08 23:18:45,851 : INFO : EPOCH 17 - PROGRESS: at 93.92% examples, 1534663 words/s, in_qsize 15, out_qsize 0\n",
      "2023-12-08 23:18:46,179 : INFO : EPOCH 17: training on 9227204 raw words (8223337 effective words) took 5.4s, 1534060 effective words/s\n",
      "2023-12-08 23:18:47,206 : INFO : EPOCH 18 - PROGRESS: at 17.46% examples, 1428102 words/s, in_qsize 15, out_qsize 0\n",
      "2023-12-08 23:18:48,209 : INFO : EPOCH 18 - PROGRESS: at 37.16% examples, 1522310 words/s, in_qsize 15, out_qsize 0\n",
      "2023-12-08 23:18:49,213 : INFO : EPOCH 18 - PROGRESS: at 57.27% examples, 1565050 words/s, in_qsize 16, out_qsize 0\n",
      "2023-12-08 23:18:50,221 : INFO : EPOCH 18 - PROGRESS: at 77.20% examples, 1580276 words/s, in_qsize 15, out_qsize 0\n",
      "2023-12-08 23:18:51,228 : INFO : EPOCH 18 - PROGRESS: at 96.20% examples, 1573783 words/s, in_qsize 15, out_qsize 0\n",
      "2023-12-08 23:18:51,407 : INFO : EPOCH 18: training on 9227204 raw words (8223184 effective words) took 5.2s, 1579591 effective words/s\n",
      "2023-12-08 23:18:52,423 : INFO : EPOCH 19 - PROGRESS: at 18.43% examples, 1511267 words/s, in_qsize 15, out_qsize 0\n",
      "2023-12-08 23:18:53,424 : INFO : EPOCH 19 - PROGRESS: at 37.59% examples, 1543413 words/s, in_qsize 16, out_qsize 0\n",
      "2023-12-08 23:18:54,425 : INFO : EPOCH 19 - PROGRESS: at 56.08% examples, 1536267 words/s, in_qsize 15, out_qsize 0\n",
      "2023-12-08 23:18:55,433 : INFO : EPOCH 19 - PROGRESS: at 76.00% examples, 1558898 words/s, in_qsize 14, out_qsize 1\n",
      "2023-12-08 23:18:56,434 : INFO : EPOCH 19 - PROGRESS: at 95.99% examples, 1574034 words/s, in_qsize 15, out_qsize 0\n",
      "2023-12-08 23:18:56,625 : INFO : EPOCH 19: training on 9227204 raw words (8222317 effective words) took 5.2s, 1580104 effective words/s\n",
      "2023-12-08 23:18:57,689 : INFO : EPOCH 20 - PROGRESS: at 19.73% examples, 1620677 words/s, in_qsize 15, out_qsize 0\n",
      "2023-12-08 23:18:58,697 : INFO : EPOCH 20 - PROGRESS: at 39.32% examples, 1610359 words/s, in_qsize 15, out_qsize 0\n",
      "2023-12-08 23:18:59,701 : INFO : EPOCH 20 - PROGRESS: at 59.55% examples, 1626309 words/s, in_qsize 15, out_qsize 0\n",
      "2023-12-08 23:19:00,702 : INFO : EPOCH 20 - PROGRESS: at 80.14% examples, 1642253 words/s, in_qsize 15, out_qsize 0\n",
      "2023-12-08 23:19:01,657 : INFO : EPOCH 20: training on 9227204 raw words (8222679 effective words) took 5.0s, 1654879 effective words/s\n",
      "2023-12-08 23:19:02,685 : INFO : EPOCH 21 - PROGRESS: at 18.22% examples, 1488841 words/s, in_qsize 15, out_qsize 0\n",
      "2023-12-08 23:19:03,695 : INFO : EPOCH 21 - PROGRESS: at 38.25% examples, 1560644 words/s, in_qsize 16, out_qsize 1\n",
      "2023-12-08 23:19:04,698 : INFO : EPOCH 21 - PROGRESS: at 58.26% examples, 1588131 words/s, in_qsize 15, out_qsize 0\n",
      "2023-12-08 23:19:05,704 : INFO : EPOCH 21 - PROGRESS: at 77.31% examples, 1580708 words/s, in_qsize 15, out_qsize 0\n",
      "2023-12-08 23:19:06,705 : INFO : EPOCH 21 - PROGRESS: at 97.50% examples, 1595431 words/s, in_qsize 14, out_qsize 1\n",
      "2023-12-08 23:19:06,819 : INFO : EPOCH 21: training on 9227204 raw words (8223974 effective words) took 5.1s, 1600085 effective words/s\n",
      "2023-12-08 23:19:07,838 : INFO : EPOCH 22 - PROGRESS: at 18.76% examples, 1540416 words/s, in_qsize 16, out_qsize 1\n",
      "2023-12-08 23:19:08,840 : INFO : EPOCH 22 - PROGRESS: at 37.70% examples, 1547606 words/s, in_qsize 12, out_qsize 3\n",
      "2023-12-08 23:19:09,841 : INFO : EPOCH 22 - PROGRESS: at 58.25% examples, 1595502 words/s, in_qsize 14, out_qsize 1\n",
      "2023-12-08 23:19:10,851 : INFO : EPOCH 22 - PROGRESS: at 78.62% examples, 1611346 words/s, in_qsize 15, out_qsize 0\n",
      "2023-12-08 23:19:11,852 : INFO : EPOCH 22 - PROGRESS: at 99.33% examples, 1628806 words/s, in_qsize 6, out_qsize 3\n",
      "2023-12-08 23:19:11,876 : INFO : EPOCH 22: training on 9227204 raw words (8222284 effective words) took 5.0s, 1631897 effective words/s\n",
      "2023-12-08 23:19:12,893 : INFO : EPOCH 23 - PROGRESS: at 18.54% examples, 1515419 words/s, in_qsize 16, out_qsize 0\n",
      "2023-12-08 23:19:13,894 : INFO : EPOCH 23 - PROGRESS: at 38.25% examples, 1568196 words/s, in_qsize 15, out_qsize 0\n",
      "2023-12-08 23:19:14,904 : INFO : EPOCH 23 - PROGRESS: at 56.84% examples, 1551189 words/s, in_qsize 15, out_qsize 0\n",
      "2023-12-08 23:19:15,910 : INFO : EPOCH 23 - PROGRESS: at 76.66% examples, 1568350 words/s, in_qsize 16, out_qsize 0\n",
      "2023-12-08 23:19:16,911 : INFO : EPOCH 23 - PROGRESS: at 96.75% examples, 1583627 words/s, in_qsize 15, out_qsize 0\n",
      "2023-12-08 23:19:17,054 : INFO : EPOCH 23: training on 9227204 raw words (8222504 effective words) took 5.2s, 1591931 effective words/s\n",
      "2023-12-08 23:19:18,082 : INFO : EPOCH 24 - PROGRESS: at 17.89% examples, 1462808 words/s, in_qsize 15, out_qsize 0\n",
      "2023-12-08 23:19:19,086 : INFO : EPOCH 24 - PROGRESS: at 37.70% examples, 1543124 words/s, in_qsize 14, out_qsize 1\n",
      "2023-12-08 23:19:20,092 : INFO : EPOCH 24 - PROGRESS: at 57.38% examples, 1566359 words/s, in_qsize 15, out_qsize 0\n",
      "2023-12-08 23:19:21,106 : INFO : EPOCH 24 - PROGRESS: at 77.31% examples, 1579054 words/s, in_qsize 14, out_qsize 1\n",
      "2023-12-08 23:19:22,107 : INFO : EPOCH 24 - PROGRESS: at 97.07% examples, 1586805 words/s, in_qsize 16, out_qsize 0\n",
      "2023-12-08 23:19:22,231 : INFO : EPOCH 24: training on 9227204 raw words (8222491 effective words) took 5.2s, 1595561 effective words/s\n",
      "2023-12-08 23:19:23,257 : INFO : EPOCH 25 - PROGRESS: at 18.97% examples, 1547066 words/s, in_qsize 16, out_qsize 1\n",
      "2023-12-08 23:19:24,257 : INFO : EPOCH 25 - PROGRESS: at 38.57% examples, 1579171 words/s, in_qsize 15, out_qsize 0\n",
      "2023-12-08 23:19:25,259 : INFO : EPOCH 25 - PROGRESS: at 58.58% examples, 1601337 words/s, in_qsize 14, out_qsize 0\n",
      "2023-12-08 23:19:26,267 : INFO : EPOCH 25 - PROGRESS: at 77.53% examples, 1587288 words/s, in_qsize 14, out_qsize 0\n",
      "2023-12-08 23:19:27,279 : INFO : EPOCH 25 - PROGRESS: at 97.72% examples, 1597087 words/s, in_qsize 14, out_qsize 1\n",
      "2023-12-08 23:19:27,368 : INFO : EPOCH 25: training on 9227204 raw words (8222038 effective words) took 5.1s, 1606425 effective words/s\n",
      "2023-12-08 23:19:28,385 : INFO : EPOCH 26 - PROGRESS: at 17.35% examples, 1423267 words/s, in_qsize 15, out_qsize 0\n",
      "2023-12-08 23:19:29,385 : INFO : EPOCH 26 - PROGRESS: at 36.72% examples, 1508136 words/s, in_qsize 14, out_qsize 1\n",
      "2023-12-08 23:19:30,386 : INFO : EPOCH 26 - PROGRESS: at 56.62% examples, 1551738 words/s, in_qsize 14, out_qsize 1\n",
      "2023-12-08 23:19:31,394 : INFO : EPOCH 26 - PROGRESS: at 76.33% examples, 1565988 words/s, in_qsize 15, out_qsize 0\n",
      "2023-12-08 23:19:32,405 : INFO : EPOCH 26 - PROGRESS: at 96.20% examples, 1575335 words/s, in_qsize 15, out_qsize 0\n",
      "2023-12-08 23:19:32,568 : INFO : EPOCH 26: training on 9227204 raw words (8222567 effective words) took 5.2s, 1586052 effective words/s\n",
      "2023-12-08 23:19:33,589 : INFO : EPOCH 27 - PROGRESS: at 19.08% examples, 1563712 words/s, in_qsize 15, out_qsize 0\n",
      "2023-12-08 23:19:34,594 : INFO : EPOCH 27 - PROGRESS: at 38.89% examples, 1592619 words/s, in_qsize 14, out_qsize 1\n",
      "2023-12-08 23:19:35,595 : INFO : EPOCH 27 - PROGRESS: at 58.79% examples, 1607544 words/s, in_qsize 14, out_qsize 1\n",
      "2023-12-08 23:19:36,595 : INFO : EPOCH 27 - PROGRESS: at 78.62% examples, 1613065 words/s, in_qsize 15, out_qsize 0\n",
      "2023-12-08 23:19:37,597 : INFO : EPOCH 27 - PROGRESS: at 98.36% examples, 1613751 words/s, in_qsize 15, out_qsize 0\n",
      "2023-12-08 23:19:37,656 : INFO : EPOCH 27: training on 9227204 raw words (8222402 effective words) took 5.1s, 1621411 effective words/s\n",
      "2023-12-08 23:19:38,678 : INFO : EPOCH 28 - PROGRESS: at 17.68% examples, 1447044 words/s, in_qsize 15, out_qsize 0\n",
      "2023-12-08 23:19:39,684 : INFO : EPOCH 28 - PROGRESS: at 36.40% examples, 1489620 words/s, in_qsize 15, out_qsize 0\n",
      "2023-12-08 23:19:40,685 : INFO : EPOCH 28 - PROGRESS: at 54.35% examples, 1485977 words/s, in_qsize 15, out_qsize 0\n",
      "2023-12-08 23:19:41,689 : INFO : EPOCH 28 - PROGRESS: at 74.48% examples, 1527416 words/s, in_qsize 12, out_qsize 0\n",
      "2023-12-08 23:19:42,691 : INFO : EPOCH 28 - PROGRESS: at 93.26% examples, 1529294 words/s, in_qsize 14, out_qsize 1\n",
      "2023-12-08 23:19:43,023 : INFO : EPOCH 28: training on 9227204 raw words (8223344 effective words) took 5.3s, 1537860 effective words/s\n",
      "2023-12-08 23:19:44,053 : INFO : EPOCH 29 - PROGRESS: at 19.29% examples, 1566374 words/s, in_qsize 15, out_qsize 0\n",
      "2023-12-08 23:19:45,054 : INFO : EPOCH 29 - PROGRESS: at 39.76% examples, 1624437 words/s, in_qsize 14, out_qsize 1\n",
      "2023-12-08 23:19:46,060 : INFO : EPOCH 29 - PROGRESS: at 60.09% examples, 1638416 words/s, in_qsize 15, out_qsize 0\n",
      "2023-12-08 23:19:47,061 : INFO : EPOCH 29 - PROGRESS: at 80.03% examples, 1637875 words/s, in_qsize 15, out_qsize 0\n",
      "2023-12-08 23:19:48,040 : INFO : EPOCH 29: training on 9227204 raw words (8223528 effective words) took 5.0s, 1645006 effective words/s\n",
      "2023-12-08 23:19:49,072 : INFO : EPOCH 30 - PROGRESS: at 18.33% examples, 1483835 words/s, in_qsize 15, out_qsize 0\n",
      "2023-12-08 23:19:50,076 : INFO : EPOCH 30 - PROGRESS: at 37.59% examples, 1531260 words/s, in_qsize 16, out_qsize 3\n",
      "2023-12-08 23:19:51,082 : INFO : EPOCH 30 - PROGRESS: at 56.73% examples, 1543631 words/s, in_qsize 15, out_qsize 0\n",
      "2023-12-08 23:19:52,090 : INFO : EPOCH 30 - PROGRESS: at 76.99% examples, 1570859 words/s, in_qsize 14, out_qsize 1\n",
      "2023-12-08 23:19:53,098 : INFO : EPOCH 30 - PROGRESS: at 96.53% examples, 1574505 words/s, in_qsize 14, out_qsize 1\n",
      "2023-12-08 23:19:53,266 : INFO : EPOCH 30: training on 9227204 raw words (8222802 effective words) took 5.2s, 1578913 effective words/s\n",
      "2023-12-08 23:19:54,294 : INFO : EPOCH 31 - PROGRESS: at 17.57% examples, 1429740 words/s, in_qsize 15, out_qsize 0\n",
      "2023-12-08 23:19:55,303 : INFO : EPOCH 31 - PROGRESS: at 37.70% examples, 1535367 words/s, in_qsize 15, out_qsize 0\n",
      "2023-12-08 23:19:56,305 : INFO : EPOCH 31 - PROGRESS: at 57.71% examples, 1572020 words/s, in_qsize 14, out_qsize 1\n",
      "2023-12-08 23:19:57,310 : INFO : EPOCH 31 - PROGRESS: at 77.74% examples, 1588861 words/s, in_qsize 16, out_qsize 0\n",
      "2023-12-08 23:19:58,313 : INFO : EPOCH 31 - PROGRESS: at 97.28% examples, 1590785 words/s, in_qsize 15, out_qsize 0\n",
      "2023-12-08 23:19:58,425 : INFO : EPOCH 31: training on 9227204 raw words (8222777 effective words) took 5.1s, 1599402 effective words/s\n",
      "2023-12-08 23:19:58,426 : INFO : Word2Vec lifecycle event {'msg': 'training on 295270528 raw words (263127567 effective words) took 164.7s, 1597772 effective words/s', 'datetime': '2023-12-08T23:19:58.426928', 'gensim': '4.3.2', 'python': '3.11.5 | packaged by Anaconda, Inc. | (main, Sep 11 2023, 13:26:23) [MSC v.1916 64 bit (AMD64)]', 'platform': 'Windows-10-10.0.22621-SP0', 'event': 'train'}\n"
     ]
    },
    {
     "name": "stdout",
     "output_type": "stream",
     "text": [
      "CPU times: total: 7min 57s\n",
      "Wall time: 2min 44s\n"
     ]
    },
    {
     "data": {
      "text/plain": [
       "(263127567, 295270528)"
      ]
     },
     "execution_count": 19,
     "metadata": {},
     "output_type": "execute_result"
    }
   ],
   "source": [
    "%%time\n",
    "w2v_model.train(documents, total_examples=len(documents), epochs=W2V_EPOCH)"
   ]
  },
  {
   "cell_type": "code",
   "execution_count": 20,
   "id": "ce694f7a",
   "metadata": {
    "tags": []
   },
   "outputs": [
    {
     "name": "stdout",
     "output_type": "stream",
     "text": [
      "('luv', 0.586133599281311)\n",
      "('loves', 0.5650420188903809)\n",
      "('loved', 0.5204981565475464)\n",
      "('adore', 0.5128191113471985)\n",
      "('amazing', 0.5046751499176025)\n",
      "('looove', 0.4771042764186859)\n",
      "('awesome', 0.464685320854187)\n",
      "('loveee', 0.4486897587776184)\n",
      "('lovee', 0.44329047203063965)\n",
      "('loooove', 0.44275015592575073)\n"
     ]
    }
   ],
   "source": [
    "# Use the \"wv\" attribute to access the Word2VecKeyedVectors\n",
    "similar_words = w2v_model.wv.most_similar(\"love\")\n",
    "\n",
    "# Print each element on a new line without rounding\n",
    "for word, similarity in similar_words:\n",
    "    print(f\"('{word}', {similarity})\")\n"
   ]
  },
  {
   "cell_type": "code",
   "execution_count": 21,
   "id": "4fb0845d",
   "metadata": {
    "tags": []
   },
   "outputs": [
    {
     "name": "stdout",
     "output_type": "stream",
     "text": [
      "Total words 290419\n",
      "CPU times: total: 12.9 s\n",
      "Wall time: 18.4 s\n"
     ]
    }
   ],
   "source": [
    "%%time\n",
    "tokenizer = Tokenizer()\n",
    "tokenizer.fit_on_texts(df_train.text)\n",
    "\n",
    "vocab_size = len(tokenizer.word_index) + 1\n",
    "print(\"Total words\", vocab_size)"
   ]
  },
  {
   "cell_type": "code",
   "execution_count": 22,
   "id": "0d741325",
   "metadata": {
    "tags": []
   },
   "outputs": [
    {
     "name": "stdout",
     "output_type": "stream",
     "text": [
      "CPU times: total: 14.4 s\n",
      "Wall time: 36.4 s\n"
     ]
    }
   ],
   "source": [
    "%%time\n",
    "x_train = pad_sequences(tokenizer.texts_to_sequences(df_train.text), maxlen=SEQUENCE_LENGTH)\n",
    "x_test = pad_sequences(tokenizer.texts_to_sequences(df_test.text), maxlen=SEQUENCE_LENGTH)"
   ]
  },
  {
   "cell_type": "code",
   "execution_count": 23,
   "id": "fd42bf6f",
   "metadata": {
    "tags": []
   },
   "outputs": [
    {
     "data": {
      "text/plain": [
       "['POSITIVE', 'NEGATIVE', 'NEUTRAL']"
      ]
     },
     "execution_count": 23,
     "metadata": {},
     "output_type": "execute_result"
    }
   ],
   "source": [
    "labels = df_train.target.unique().tolist()\n",
    "labels.append(NEUTRAL)\n",
    "labels"
   ]
  },
  {
   "cell_type": "code",
   "execution_count": 24,
   "id": "11825dac",
   "metadata": {
    "tags": []
   },
   "outputs": [
    {
     "name": "stdout",
     "output_type": "stream",
     "text": [
      "y_train (1280000, 1)\n",
      "y_test (320000, 1)\n"
     ]
    }
   ],
   "source": [
    "encoder = LabelEncoder()\n",
    "encoder.fit(df_train.target.tolist())\n",
    "\n",
    "y_train = encoder.transform(df_train.target.tolist())\n",
    "y_test = encoder.transform(df_test.target.tolist())\n",
    "\n",
    "y_train = y_train.reshape(-1,1)\n",
    "y_test = y_test.reshape(-1,1)\n",
    "\n",
    "print(\"y_train\",y_train.shape)\n",
    "print(\"y_test\",y_test.shape)"
   ]
  },
  {
   "cell_type": "code",
   "execution_count": 25,
   "id": "d53bbbcd-637b-4c34-b817-8bf535f17975",
   "metadata": {
    "tags": []
   },
   "outputs": [
    {
     "name": "stdout",
     "output_type": "stream",
     "text": [
      "x_train (1280000, 300)\n",
      "y_train (1280000, 1)\n",
      "\n",
      "x_test (320000, 300)\n",
      "y_test (320000, 1)\n"
     ]
    }
   ],
   "source": [
    "print(\"x_train\", x_train.shape)\n",
    "print(\"y_train\", y_train.shape)\n",
    "print()\n",
    "print(\"x_test\", x_test.shape)\n",
    "print(\"y_test\", y_test.shape)"
   ]
  },
  {
   "cell_type": "code",
   "execution_count": 26,
   "id": "df14bcda-7a1c-475f-9f21-6b993781a3b4",
   "metadata": {
    "tags": []
   },
   "outputs": [
    {
     "data": {
      "text/plain": [
       "array([[1],\n",
       "       [1],\n",
       "       [1],\n",
       "       [0],\n",
       "       [1],\n",
       "       [1],\n",
       "       [1],\n",
       "       [1],\n",
       "       [1],\n",
       "       [1]])"
      ]
     },
     "execution_count": 26,
     "metadata": {},
     "output_type": "execute_result"
    }
   ],
   "source": [
    "y_train[:10]"
   ]
  },
  {
   "cell_type": "code",
   "execution_count": 27,
   "id": "16d3e571-b78f-48b0-8d00-0715f0c7d234",
   "metadata": {
    "tags": []
   },
   "outputs": [
    {
     "name": "stdout",
     "output_type": "stream",
     "text": [
      "(290419, 300)\n"
     ]
    }
   ],
   "source": [
    "embedding_matrix = np.zeros((vocab_size, W2V_SIZE))\n",
    "for word, i in tokenizer.word_index.items():\n",
    "  if word in w2v_model.wv:\n",
    "    embedding_matrix[i] = w2v_model.wv[word]\n",
    "print(embedding_matrix.shape)"
   ]
  },
  {
   "cell_type": "code",
   "execution_count": 28,
   "id": "f5ccd23e-d2bb-44e2-99d8-a62dd19e6985",
   "metadata": {
    "tags": []
   },
   "outputs": [
    {
     "name": "stdout",
     "output_type": "stream",
     "text": [
      "WARNING:tensorflow:From C:\\Users\\HP\\anaconda3\\Lib\\site-packages\\keras\\src\\backend.py:873: The name tf.get_default_graph is deprecated. Please use tf.compat.v1.get_default_graph instead.\n",
      "\n"
     ]
    },
    {
     "name": "stderr",
     "output_type": "stream",
     "text": [
      "2023-12-08 23:23:56,345 : WARNING : From C:\\Users\\HP\\anaconda3\\Lib\\site-packages\\keras\\src\\backend.py:873: The name tf.get_default_graph is deprecated. Please use tf.compat.v1.get_default_graph instead.\n",
      "\n"
     ]
    }
   ],
   "source": [
    "embedding_layer = Embedding(vocab_size, W2V_SIZE, weights=[embedding_matrix], input_length=SEQUENCE_LENGTH, trainable=False)"
   ]
  },
  {
   "cell_type": "code",
   "execution_count": 29,
   "id": "9001246a-793f-4fed-bf82-2d687fe5d8e0",
   "metadata": {
    "tags": []
   },
   "outputs": [
    {
     "name": "stdout",
     "output_type": "stream",
     "text": [
      "Model: \"sequential\"\n",
      "_________________________________________________________________\n",
      " Layer (type)                Output Shape              Param #   \n",
      "=================================================================\n",
      " embedding (Embedding)       (None, 300, 300)          87125700  \n",
      "                                                                 \n",
      " dropout (Dropout)           (None, 300, 300)          0         \n",
      "                                                                 \n",
      " lstm (LSTM)                 (None, 100)               160400    \n",
      "                                                                 \n",
      " dense (Dense)               (None, 1)                 101       \n",
      "                                                                 \n",
      "=================================================================\n",
      "Total params: 87286201 (332.97 MB)\n",
      "Trainable params: 160501 (626.96 KB)\n",
      "Non-trainable params: 87125700 (332.36 MB)\n",
      "_________________________________________________________________\n"
     ]
    }
   ],
   "source": [
    "model = Sequential()\n",
    "model.add(embedding_layer)\n",
    "model.add(Dropout(0.5))\n",
    "model.add(LSTM(100, dropout=0.2, recurrent_dropout=0.2))\n",
    "model.add(Dense(1, activation='sigmoid'))\n",
    "\n",
    "model.summary()"
   ]
  },
  {
   "cell_type": "code",
   "execution_count": 30,
   "id": "559a6fce-df08-40a5-9907-d8d8086d4be6",
   "metadata": {
    "tags": []
   },
   "outputs": [
    {
     "name": "stdout",
     "output_type": "stream",
     "text": [
      "WARNING:tensorflow:From C:\\Users\\HP\\anaconda3\\Lib\\site-packages\\keras\\src\\optimizers\\__init__.py:309: The name tf.train.Optimizer is deprecated. Please use tf.compat.v1.train.Optimizer instead.\n",
      "\n"
     ]
    },
    {
     "name": "stderr",
     "output_type": "stream",
     "text": [
      "2023-12-08 23:24:26,593 : WARNING : From C:\\Users\\HP\\anaconda3\\Lib\\site-packages\\keras\\src\\optimizers\\__init__.py:309: The name tf.train.Optimizer is deprecated. Please use tf.compat.v1.train.Optimizer instead.\n",
      "\n"
     ]
    }
   ],
   "source": [
    "model.compile(loss='binary_crossentropy',\n",
    "              optimizer=\"adam\",\n",
    "              metrics=['accuracy'])"
   ]
  },
  {
   "cell_type": "code",
   "execution_count": 31,
   "id": "eac3049f-ac1b-4c2a-860b-39f6ea904aad",
   "metadata": {
    "tags": []
   },
   "outputs": [],
   "source": [
    "callbacks = [ ReduceLROnPlateau(monitor='val_loss', patience=5, cooldown=0),\n",
    "              EarlyStopping(monitor='val_acc', min_delta=1e-4, patience=5)]"
   ]
  },
  {
   "cell_type": "code",
   "execution_count": 32,
   "id": "633ae204-fdbf-4b35-b3f1-faffaa5dd24d",
   "metadata": {
    "tags": []
   },
   "outputs": [
    {
     "name": "stdout",
     "output_type": "stream",
     "text": [
      "Epoch 1/8\n",
      "WARNING:tensorflow:From C:\\Users\\HP\\anaconda3\\Lib\\site-packages\\keras\\src\\utils\\tf_utils.py:492: The name tf.ragged.RaggedTensorValue is deprecated. Please use tf.compat.v1.ragged.RaggedTensorValue instead.\n",
      "\n"
     ]
    },
    {
     "name": "stderr",
     "output_type": "stream",
     "text": [
      "2023-12-08 23:25:01,634 : WARNING : From C:\\Users\\HP\\anaconda3\\Lib\\site-packages\\keras\\src\\utils\\tf_utils.py:492: The name tf.ragged.RaggedTensorValue is deprecated. Please use tf.compat.v1.ragged.RaggedTensorValue instead.\n",
      "\n"
     ]
    },
    {
     "name": "stdout",
     "output_type": "stream",
     "text": [
      "WARNING:tensorflow:From C:\\Users\\HP\\anaconda3\\Lib\\site-packages\\keras\\src\\engine\\base_layer_utils.py:384: The name tf.executing_eagerly_outside_functions is deprecated. Please use tf.compat.v1.executing_eagerly_outside_functions instead.\n",
      "\n"
     ]
    },
    {
     "name": "stderr",
     "output_type": "stream",
     "text": [
      "2023-12-08 23:25:02,598 : WARNING : From C:\\Users\\HP\\anaconda3\\Lib\\site-packages\\keras\\src\\engine\\base_layer_utils.py:384: The name tf.executing_eagerly_outside_functions is deprecated. Please use tf.compat.v1.executing_eagerly_outside_functions instead.\n",
      "\n"
     ]
    },
    {
     "name": "stdout",
     "output_type": "stream",
     "text": [
      "1125/1125 [==============================] - ETA: 0s - loss: 0.5128 - accuracy: 0.7440WARNING:tensorflow:Early stopping conditioned on metric `val_acc` which is not available. Available metrics are: loss,accuracy,val_loss,val_accuracy,lr\n"
     ]
    },
    {
     "name": "stderr",
     "output_type": "stream",
     "text": [
      "2023-12-09 00:50:46,558 : WARNING : Early stopping conditioned on metric `val_acc` which is not available. Available metrics are: loss,accuracy,val_loss,val_accuracy,lr\n"
     ]
    },
    {
     "name": "stdout",
     "output_type": "stream",
     "text": [
      "1125/1125 [==============================] - 5146s 5s/step - loss: 0.5128 - accuracy: 0.7440 - val_loss: 0.4681 - val_accuracy: 0.7768 - lr: 0.0010\n",
      "Epoch 2/8\n",
      "1125/1125 [==============================] - ETA: 0s - loss: 0.4826 - accuracy: 0.7650WARNING:tensorflow:Early stopping conditioned on metric `val_acc` which is not available. Available metrics are: loss,accuracy,val_loss,val_accuracy,lr\n"
     ]
    },
    {
     "name": "stderr",
     "output_type": "stream",
     "text": [
      "2023-12-09 02:18:19,755 : WARNING : Early stopping conditioned on metric `val_acc` which is not available. Available metrics are: loss,accuracy,val_loss,val_accuracy,lr\n"
     ]
    },
    {
     "name": "stdout",
     "output_type": "stream",
     "text": [
      "1125/1125 [==============================] - 5253s 5s/step - loss: 0.4826 - accuracy: 0.7650 - val_loss: 0.4606 - val_accuracy: 0.7818 - lr: 0.0010\n",
      "Epoch 3/8\n",
      "1125/1125 [==============================] - ETA: 0s - loss: 0.4745 - accuracy: 0.7702WARNING:tensorflow:Early stopping conditioned on metric `val_acc` which is not available. Available metrics are: loss,accuracy,val_loss,val_accuracy,lr\n"
     ]
    },
    {
     "name": "stderr",
     "output_type": "stream",
     "text": [
      "2023-12-09 03:15:19,038 : WARNING : Early stopping conditioned on metric `val_acc` which is not available. Available metrics are: loss,accuracy,val_loss,val_accuracy,lr\n"
     ]
    },
    {
     "name": "stdout",
     "output_type": "stream",
     "text": [
      "1125/1125 [==============================] - 3419s 3s/step - loss: 0.4745 - accuracy: 0.7702 - val_loss: 0.4558 - val_accuracy: 0.7845 - lr: 0.0010\n",
      "Epoch 4/8\n",
      "1125/1125 [==============================] - ETA: 0s - loss: 0.4704 - accuracy: 0.7730WARNING:tensorflow:Early stopping conditioned on metric `val_acc` which is not available. Available metrics are: loss,accuracy,val_loss,val_accuracy,lr\n"
     ]
    },
    {
     "name": "stderr",
     "output_type": "stream",
     "text": [
      "2023-12-09 03:59:56,015 : WARNING : Early stopping conditioned on metric `val_acc` which is not available. Available metrics are: loss,accuracy,val_loss,val_accuracy,lr\n"
     ]
    },
    {
     "name": "stdout",
     "output_type": "stream",
     "text": [
      "1125/1125 [==============================] - 2677s 2s/step - loss: 0.4704 - accuracy: 0.7730 - val_loss: 0.4527 - val_accuracy: 0.7870 - lr: 0.0010\n",
      "Epoch 5/8\n",
      "1125/1125 [==============================] - ETA: 0s - loss: 0.4680 - accuracy: 0.7741WARNING:tensorflow:Early stopping conditioned on metric `val_acc` which is not available. Available metrics are: loss,accuracy,val_loss,val_accuracy,lr\n"
     ]
    },
    {
     "name": "stderr",
     "output_type": "stream",
     "text": [
      "2023-12-09 04:45:21,987 : WARNING : Early stopping conditioned on metric `val_acc` which is not available. Available metrics are: loss,accuracy,val_loss,val_accuracy,lr\n"
     ]
    },
    {
     "name": "stdout",
     "output_type": "stream",
     "text": [
      "1125/1125 [==============================] - 2726s 2s/step - loss: 0.4680 - accuracy: 0.7741 - val_loss: 0.4501 - val_accuracy: 0.7877 - lr: 0.0010\n",
      "Epoch 6/8\n",
      "1125/1125 [==============================] - ETA: 0s - loss: 0.4654 - accuracy: 0.7759WARNING:tensorflow:Early stopping conditioned on metric `val_acc` which is not available. Available metrics are: loss,accuracy,val_loss,val_accuracy,lr\n"
     ]
    },
    {
     "name": "stderr",
     "output_type": "stream",
     "text": [
      "2023-12-09 05:31:14,060 : WARNING : Early stopping conditioned on metric `val_acc` which is not available. Available metrics are: loss,accuracy,val_loss,val_accuracy,lr\n"
     ]
    },
    {
     "name": "stdout",
     "output_type": "stream",
     "text": [
      "1125/1125 [==============================] - 2752s 2s/step - loss: 0.4654 - accuracy: 0.7759 - val_loss: 0.4486 - val_accuracy: 0.7882 - lr: 0.0010\n",
      "Epoch 7/8\n",
      "1125/1125 [==============================] - ETA: 0s - loss: 0.4638 - accuracy: 0.7769WARNING:tensorflow:Early stopping conditioned on metric `val_acc` which is not available. Available metrics are: loss,accuracy,val_loss,val_accuracy,lr\n"
     ]
    },
    {
     "name": "stderr",
     "output_type": "stream",
     "text": [
      "2023-12-09 06:17:11,528 : WARNING : Early stopping conditioned on metric `val_acc` which is not available. Available metrics are: loss,accuracy,val_loss,val_accuracy,lr\n"
     ]
    },
    {
     "name": "stdout",
     "output_type": "stream",
     "text": [
      "1125/1125 [==============================] - 2757s 2s/step - loss: 0.4638 - accuracy: 0.7769 - val_loss: 0.4479 - val_accuracy: 0.7890 - lr: 0.0010\n",
      "Epoch 8/8\n",
      "1125/1125 [==============================] - ETA: 0s - loss: 0.4624 - accuracy: 0.7778WARNING:tensorflow:Early stopping conditioned on metric `val_acc` which is not available. Available metrics are: loss,accuracy,val_loss,val_accuracy,lr\n"
     ]
    },
    {
     "name": "stderr",
     "output_type": "stream",
     "text": [
      "2023-12-09 07:03:09,071 : WARNING : Early stopping conditioned on metric `val_acc` which is not available. Available metrics are: loss,accuracy,val_loss,val_accuracy,lr\n"
     ]
    },
    {
     "name": "stdout",
     "output_type": "stream",
     "text": [
      "1125/1125 [==============================] - 2758s 2s/step - loss: 0.4624 - accuracy: 0.7778 - val_loss: 0.4467 - val_accuracy: 0.7895 - lr: 0.0010\n",
      "CPU times: total: 17h 24min 1s\n",
      "Wall time: 7h 38min 11s\n"
     ]
    }
   ],
   "source": [
    "%%time\n",
    "history = model.fit(x_train, y_train,\n",
    "                    batch_size=BATCH_SIZE,\n",
    "                    epochs=EPOCHS,\n",
    "                    validation_split=0.1,\n",
    "                    verbose=1,\n",
    "                    callbacks=callbacks)"
   ]
  },
  {
   "cell_type": "code",
   "execution_count": 33,
   "id": "71f26dbb-5061-46ed-b2fe-2b681cfb285d",
   "metadata": {
    "tags": []
   },
   "outputs": [
    {
     "name": "stdout",
     "output_type": "stream",
     "text": [
      "313/313 [==============================] - 103s 327ms/step - loss: 0.4458 - accuracy: 0.7900\n",
      "\n",
      "ACCURACY: 0.7899875044822693\n",
      "LOSS: 0.44583770632743835\n",
      "CPU times: total: 1min 20s\n",
      "Wall time: 1min 43s\n"
     ]
    }
   ],
   "source": [
    "%%time\n",
    "score = model.evaluate(x_test, y_test, batch_size=BATCH_SIZE)\n",
    "print()\n",
    "print(\"ACCURACY:\",score[1])\n",
    "print(\"LOSS:\",score[0])"
   ]
  },
  {
   "cell_type": "code",
   "execution_count": 35,
   "id": "6f34c6a0-9818-4717-b9e7-dc04a4004a9c",
   "metadata": {
    "tags": []
   },
   "outputs": [
    {
     "data": {
      "image/png": "[encoded data removed]",
      "text/plain": [
       "<Figure size 640x480 with 1 Axes>"
      ]
     },
     "metadata": {},
     "output_type": "display_data"
    },
    {
     "data": {
      "image/png": "[encoded data removed]",
      "text/plain": [
       "<Figure size 640x480 with 1 Axes>"
      ]
     },
     "metadata": {},
     "output_type": "display_data"
    }
   ],
   "source": [
    "# Corrected code\n",
    "acc = history.history['accuracy']\n",
    "val_acc = history.history['val_accuracy']\n",
    "loss = history.history['loss']\n",
    "val_loss = history.history['val_loss']\n",
    "\n",
    "epochs = range(len(acc))\n",
    "\n",
    "plt.plot(epochs, acc, 'b', label='Training acc')\n",
    "plt.plot(epochs, val_acc, 'r', label='Validation acc')\n",
    "plt.title('Training and validation accuracy')\n",
    "plt.legend()\n",
    "\n",
    "plt.figure()\n",
    "\n",
    "plt.plot(epochs, loss, 'b', label='Training loss')\n",
    "plt.plot(epochs, val_loss, 'r', label='Validation loss')\n",
    "plt.title('Training and validation loss')\n",
    "plt.legend()\n",
    "\n",
    "plt.show()"
   ]
  },
  {
   "cell_type": "code",
   "execution_count": 71,
   "id": "dfec9d2e-f5c1-4ddb-81b6-9cde7754c352",
   "metadata": {
    "tags": []
   },
   "outputs": [],
   "source": [
    "SENTIMENT_THRESHOLDS = (0.4, 0.8)"
   ]
  },
  {
   "cell_type": "code",
   "execution_count": 72,
   "id": "bfbd77db-63ac-4f91-b33e-2df41c3a9bfa",
   "metadata": {
    "tags": []
   },
   "outputs": [],
   "source": [
    "def decode_sentiment(score, include_neutral=True):\n",
    "    if include_neutral:\n",
    "        if score <= SENTIMENT_THRESHOLDS[0]:\n",
    "            return NEGATIVE\n",
    "        elif score >= SENTIMENT_THRESHOLDS[1]:\n",
    "            return POSITIVE\n",
    "        else:\n",
    "            return NEUTRAL\n",
    "    else:\n",
    "        return NEGATIVE if score < 0.5 else POSITIVE"
   ]
  },
  {
   "cell_type": "code",
   "execution_count": 73,
   "id": "062699e8-c4ba-479f-9c88-5ee554785db7",
   "metadata": {
    "tags": []
   },
   "outputs": [],
   "source": [
    "def predict(text, include_neutral=True):\n",
    "    start_at = time.time()\n",
    "    # Tokenize text\n",
    "    x_test = pad_sequences(tokenizer.texts_to_sequences([text]), maxlen=SEQUENCE_LENGTH)\n",
    "    # Predict\n",
    "    score = model.predict([x_test])[0]\n",
    "    print(\"Raw Score:\", score)  # Print raw score for debugging purposes\n",
    "    # Decode sentiment with include_neutral\n",
    "    label = decode_sentiment(score, include_neutral=include_neutral)\n",
    "\n",
    "    return {\"label\": label, \"score\": float(score),\n",
    "            \"elapsed_time\": time.time()-start_at} "
   ]
  },
  {
   "cell_type": "code",
   "execution_count": 74,
   "id": "8fe34f46-3513-4683-905a-22c49af3f0e9",
   "metadata": {
    "tags": []
   },
   "outputs": [
    {
     "name": "stdout",
     "output_type": "stream",
     "text": [
      "1/1 [==============================] - 0s 36ms/step\n",
      "Raw Score: [0.7418885]\n",
      "{'label': 'NEUTRAL', 'score': 0.7418885231018066, 'elapsed_time': 0.0655984878540039}\n"
     ]
    }
   ],
   "source": [
    "output = predict(\"The book is on the shelf.\", include_neutral=True)\n",
    "print(output)"
   ]
  },
  {
   "cell_type": "code",
   "execution_count": 75,
   "id": "4a0705ea-5093-41e8-9fcb-5f7c0fd25f14",
   "metadata": {
    "tags": []
   },
   "outputs": [
    {
     "name": "stdout",
     "output_type": "stream",
     "text": [
      "1/1 [==============================] - 0s 40ms/step\n",
      "Raw Score: [0.7418885]\n",
      "{'label': 'NEUTRAL', 'score': 0.7418885231018066, 'elapsed_time': 0.07856535911560059}\n"
     ]
    }
   ],
   "source": [
    "output = predict(\"The book is on the shelf.\", include_neutral=True)\n",
    "print(output)"
   ]
  },
  {
   "cell_type": "code",
   "execution_count": 76,
   "id": "0b51692b-7015-41b7-bb99-2b88fcc5299a",
   "metadata": {
    "tags": []
   },
   "outputs": [
    {
     "name": "stdout",
     "output_type": "stream",
     "text": [
      "1/1 [==============================] - 0s 39ms/step\n",
      "Raw Score: [0.31051418]\n"
     ]
    },
    {
     "data": {
      "text/plain": [
       "{'label': 'NEGATIVE',\n",
       " 'score': 0.3105141818523407,\n",
       " 'elapsed_time': 0.06924057006835938}"
      ]
     },
     "execution_count": 76,
     "metadata": {},
     "output_type": "execute_result"
    }
   ],
   "source": [
    "predict(\"i don't know what i'm doing\")"
   ]
  },
  {
   "cell_type": "code",
   "execution_count": 77,
   "id": "eb42f6b6-7d8b-45c7-8623-58c8529f12af",
   "metadata": {
    "tags": []
   },
   "outputs": [
    {
     "name": "stdout",
     "output_type": "stream",
     "text": [
      "1/1 [==============================] - 0s 42ms/step\n",
      "Raw Score: [0.00747176]\n"
     ]
    },
    {
     "data": {
      "text/plain": [
       "{'label': 'NEGATIVE',\n",
       " 'score': 0.00747176306322217,\n",
       " 'elapsed_time': 0.07485532760620117}"
      ]
     },
     "execution_count": 77,
     "metadata": {},
     "output_type": "execute_result"
    }
   ],
   "source": [
    "predict(\"I'm really disappointed with the service at this hotel.\")"
   ]
  },
  {
   "cell_type": "code",
   "execution_count": 78,
   "id": "9d56e583-42ec-4326-98bd-36dafce19ade",
   "metadata": {
    "tags": []
   },
   "outputs": [
    {
     "name": "stdout",
     "output_type": "stream",
     "text": [
      "1/1 [==============================] - 0s 40ms/step\n",
      "Raw Score: [0.00747176]\n"
     ]
    },
    {
     "data": {
      "text/plain": [
       "{'label': 'NEGATIVE',\n",
       " 'score': 0.00747176306322217,\n",
       " 'elapsed_time': 0.06961631774902344}"
      ]
     },
     "execution_count": 78,
     "metadata": {},
     "output_type": "execute_result"
    }
   ],
   "source": [
    "predict(\"I'm really disappointed with the service at this hotel.\")"
   ]
  },
  {
   "cell_type": "code",
   "execution_count": 79,
   "id": "f2a7bf4e-d9c4-4d46-b036-2cf1d8ea0176",
   "metadata": {
    "tags": []
   },
   "outputs": [
    {
     "name": "stdout",
     "output_type": "stream",
     "text": [
      "1/1 [==============================] - 0s 38ms/step\n",
      "Raw Score: [0.7418885]\n"
     ]
    },
    {
     "data": {
      "text/plain": [
       "{'label': 'NEUTRAL',\n",
       " 'score': 0.7418885231018066,\n",
       " 'elapsed_time': 0.06888842582702637}"
      ]
     },
     "execution_count": 79,
     "metadata": {},
     "output_type": "execute_result"
    }
   ],
   "source": [
    "predict(\"The book is on the shelf.\")"
   ]
  },
  {
   "cell_type": "code",
   "execution_count": 80,
   "id": "a736dd30-a3aa-4d8a-8e2c-65dd30ab4cab",
   "metadata": {
    "tags": []
   },
   "outputs": [
    {
     "name": "stdout",
     "output_type": "stream",
     "text": [
      "1/1 [==============================] - 0s 35ms/step\n",
      "Raw Score: [0.7418885]\n"
     ]
    },
    {
     "data": {
      "text/plain": [
       "{'label': 'NEUTRAL',\n",
       " 'score': 0.7418885231018066,\n",
       " 'elapsed_time': 0.06622433662414551}"
      ]
     },
     "execution_count": 80,
     "metadata": {},
     "output_type": "execute_result"
    }
   ],
   "source": [
    "predict(\"The book is not on the shelf.\")"
   ]
  },
  {
   "cell_type": "code",
   "execution_count": 84,
   "id": "d68e8dbc-3f94-49aa-a861-dc7fe8a051d7",
   "metadata": {
    "tags": []
   },
   "outputs": [
    {
     "name": "stdout",
     "output_type": "stream",
     "text": [
      "1/1 [==============================] - 0s 31ms/step\n",
      "Raw Score: [0.9900706]\n"
     ]
    },
    {
     "data": {
      "text/plain": [
       "{'label': 'POSITIVE',\n",
       " 'score': 0.9900705814361572,\n",
       " 'elapsed_time': 0.08870315551757812}"
      ]
     },
     "execution_count": 84,
     "metadata": {},
     "output_type": "execute_result"
    }
   ],
   "source": [
    "predict(\"I enjoy watching documentaries.\")"
   ]
  },
  {
   "cell_type": "code",
   "execution_count": 82,
   "id": "2fc1ebca-8e57-4c63-abe0-f2b3652127bc",
   "metadata": {
    "tags": []
   },
   "outputs": [
    {
     "name": "stdout",
     "output_type": "stream",
     "text": [
      "0.4\n"
     ]
    }
   ],
   "source": [
    "print(SENTIMENT_THRESHOLDS[0])"
   ]
  },
  {
   "cell_type": "code",
   "execution_count": 83,
   "id": "d166183e-af84-426a-8030-9a568209d1c1",
   "metadata": {
    "tags": []
   },
   "outputs": [
    {
     "name": "stdout",
     "output_type": "stream",
     "text": [
      "0.8\n"
     ]
    }
   ],
   "source": [
    "print(SENTIMENT_THRESHOLDS[1])"
   ]
  },
  {
   "cell_type": "code",
   "execution_count": 86,
   "id": "599af9a1-8d0d-463c-822c-fb4c8f98c69a",
   "metadata": {
    "tags": []
   },
   "outputs": [
    {
     "name": "stdout",
     "output_type": "stream",
     "text": [
      "40/40 [==============================] - 85s 2s/step\n",
      "CPU times: total: 4min 50s\n",
      "Wall time: 1min 26s\n"
     ]
    }
   ],
   "source": [
    "%%time\n",
    "y_pred_1d = []\n",
    "y_test_1d = list(df_test.target)\n",
    "scores = model.predict(x_test, verbose=1, batch_size=8000)\n",
    "y_pred_1d = [decode_sentiment(score[0], include_neutral=False) for score in scores]"
   ]
  },
  {
   "cell_type": "code",
   "execution_count": 87,
   "id": "f2ffabc9-80a9-4a2a-b267-3ac81e769616",
   "metadata": {
    "tags": []
   },
   "outputs": [],
   "source": [
    "def plot_confusion_matrix(cm, classes,\n",
    "                          title='Confusion matrix',\n",
    "                          cmap=plt.cm.Blues):\n",
    "    \"\"\"\n",
    "    This function prints and plots the confusion matrix.\n",
    "    Normalization can be applied by setting `normalize=True`.\n",
    "    \"\"\"\n",
    "\n",
    "    cm = cm.astype('float') / cm.sum(axis=1)[:, np.newaxis]\n",
    "\n",
    "    plt.imshow(cm, interpolation='nearest', cmap=cmap)\n",
    "    plt.title(title, fontsize=30)\n",
    "    plt.colorbar()\n",
    "    tick_marks = np.arange(len(classes))\n",
    "    plt.xticks(tick_marks, classes, rotation=90, fontsize=22)\n",
    "    plt.yticks(tick_marks, classes, fontsize=22)\n",
    "\n",
    "    fmt = '.2f'\n",
    "    thresh = cm.max() / 2.\n",
    "    for i, j in itertools.product(range(cm.shape[0]), range(cm.shape[1])):\n",
    "        plt.text(j, i, format(cm[i, j], fmt),\n",
    "                 horizontalalignment=\"center\",\n",
    "                 color=\"white\" if cm[i, j] > thresh else \"black\")\n",
    "\n",
    "    plt.ylabel('True label', fontsize=25)\n",
    "    plt.xlabel('Predicted label', fontsize=25)"
   ]
  },
  {
   "cell_type": "code",
   "execution_count": 88,
   "id": "7bf39740-d67d-4466-9eab-cdbef2fa2c8a",
   "metadata": {
    "tags": []
   },
   "outputs": [
    {
     "data": {
      "image/png": "[encoded data removed]",
      "text/plain": [
       "<Figure size 1200x1200 with 2 Axes>"
      ]
     },
     "metadata": {},
     "output_type": "display_data"
    },
    {
     "name": "stdout",
     "output_type": "stream",
     "text": [
      "CPU times: total: 438 ms\n",
      "Wall time: 1.02 s\n"
     ]
    }
   ],
   "source": [
    "%%time\n",
    "\n",
    "cnf_matrix = confusion_matrix(y_test_1d, y_pred_1d)\n",
    "plt.figure(figsize=(12,12))\n",
    "plot_confusion_matrix(cnf_matrix, classes=df_train.target.unique(), title=\"Confusion matrix\")\n",
    "plt.show()"
   ]
  },
  {
   "cell_type": "code",
   "execution_count": 89,
   "id": "701a0406-c644-4db4-8282-3203fbbf7394",
   "metadata": {
    "tags": []
   },
   "outputs": [
    {
     "name": "stdout",
     "output_type": "stream",
     "text": [
      "Confusion Matrix:\n",
      "[[124925  34569]\n",
      " [ 32635 127871]]\n"
     ]
    }
   ],
   "source": [
    "cnf_matrix = confusion_matrix(y_test_1d, y_pred_1d)\n",
    "print(\"Confusion Matrix:\")\n",
    "print(cnf_matrix)"
   ]
  },
  {
   "cell_type": "code",
   "execution_count": 90,
   "id": "6013b49a-8ec8-49be-8ef7-281d10db4f88",
   "metadata": {
    "tags": []
   },
   "outputs": [
    {
     "name": "stdout",
     "output_type": "stream",
     "text": [
      "Accuracy: 0.7900\n",
      "Precision: 0.7833\n",
      "Recall: 0.7929\n",
      "F1 Score: 0.7880\n"
     ]
    }
   ],
   "source": [
    "# Extract values from confusion matrix\n",
    "TP, FP, FN, TN = cnf_matrix.ravel()\n",
    "\n",
    "# Calculate metrics\n",
    "accuracy = (TP + TN) / (TP + TN + FP + FN)\n",
    "precision = TP / (TP + FP)\n",
    "recall = TP / (TP + FN)\n",
    "f1_score = 2 * (precision * recall) / (precision + recall)\n",
    "\n",
    "print(f\"Accuracy: {accuracy:.4f}\")\n",
    "print(f\"Precision: {precision:.4f}\")\n",
    "print(f\"Recall: {recall:.4f}\")\n",
    "print(f\"F1 Score: {f1_score:.4f}\")\n"
   ]
  },
  {
   "cell_type": "code",
   "execution_count": 91,
   "id": "c03348a3-0315-43eb-a304-df4669c32eda",
   "metadata": {
    "tags": []
   },
   "outputs": [
    {
     "name": "stdout",
     "output_type": "stream",
     "text": [
      "              precision    recall  f1-score   support\n",
      "\n",
      "    NEGATIVE       0.79      0.78      0.79    159494\n",
      "    POSITIVE       0.79      0.80      0.79    160506\n",
      "\n",
      "    accuracy                           0.79    320000\n",
      "   macro avg       0.79      0.79      0.79    320000\n",
      "weighted avg       0.79      0.79      0.79    320000\n",
      "\n"
     ]
    }
   ],
   "source": [
    "print(classification_report(y_test_1d, y_pred_1d))"
   ]
  },
  {
   "cell_type": "code",
   "execution_count": 92,
   "id": "ef43da56-f020-4825-bbe1-9e0fe8211e4c",
   "metadata": {
    "tags": []
   },
   "outputs": [
    {
     "data": {
      "text/plain": [
       "0.7899875"
      ]
     },
     "execution_count": 92,
     "metadata": {},
     "output_type": "execute_result"
    }
   ],
   "source": [
    "accuracy_score(y_test_1d, y_pred_1d)"
   ]
  },
  {
   "cell_type": "code",
   "execution_count": 93,
   "id": "b5b47655-f205-43f9-ae08-19f6bc6c4088",
   "metadata": {
    "tags": []
   },
   "outputs": [
    {
     "name": "stderr",
     "output_type": "stream",
     "text": [
      "C:\\Users\\HP\\anaconda3\\Lib\\site-packages\\keras\\src\\engine\\training.py:3103: UserWarning: You are saving your model as an HDF5 file via `model.save()`. This file format is considered legacy. We recommend using instead the native Keras format, e.g. `model.save('my_model.keras')`.\n",
      "  saving_api.save_model(\n",
      "2023-12-09 09:50:50,867 : INFO : Word2Vec lifecycle event {'fname_or_handle': 'model.w2v', 'separately': 'None', 'sep_limit': 10485760, 'ignore': frozenset(), 'datetime': '2023-12-09T09:50:50.852169', 'gensim': '4.3.2', 'python': '3.11.5 | packaged by Anaconda, Inc. | (main, Sep 11 2023, 13:26:23) [MSC v.1916 64 bit (AMD64)]', 'platform': 'Windows-10-10.0.22621-SP0', 'event': 'saving'}\n",
      "2023-12-09 09:50:50,867 : INFO : not storing attribute cum_table\n",
      "2023-12-09 09:50:51,710 : INFO : saved model.w2v\n"
     ]
    }
   ],
   "source": [
    "model.save(KERAS_MODEL)\n",
    "w2v_model.save(WORD2VEC_MODEL)\n",
    "pickle.dump(tokenizer, open(TOKENIZER_MODEL, \"wb\"), protocol=0)\n",
    "pickle.dump(encoder, open(ENCODER_MODEL, \"wb\"), protocol=0)"
   ]
  },
  {
   "cell_type": "code",
   "execution_count": 94,
   "id": "83877745-2327-4a36-baba-bea1b5ca37a0",
   "metadata": {
    "tags": []
   },
   "outputs": [
    {
     "name": "stdout",
     "output_type": "stream",
     "text": [
      "C:\\Users\\HP\n"
     ]
    }
   ],
   "source": [
    "import os\n",
    "print(os.getcwd())\n"
   ]
  },
  {
   "cell_type": "code",
   "execution_count": 2,
   "id": "ab61706f-709a-4d3d-ad0a-eddb647373e1",
   "metadata": {},
   "outputs": [
    {
     "name": "stdout",
     "output_type": "stream",
     "text": [
      "WARNING:tensorflow:From C:\\Users\\HP\\anaconda3\\Lib\\site-packages\\keras\\src\\losses.py:2976: The name tf.losses.sparse_softmax_cross_entropy is deprecated. Please use tf.compat.v1.losses.sparse_softmax_cross_entropy instead.\n",
      "\n",
      "WARNING:tensorflow:From C:\\Users\\HP\\anaconda3\\Lib\\site-packages\\keras\\src\\backend.py:1398: The name tf.executing_eagerly_outside_functions is deprecated. Please use tf.compat.v1.executing_eagerly_outside_functions instead.\n",
      "\n"
     ]
    }
   ],
   "source": [
    "from keras.models import load_model\n",
    "import gensim\n",
    "import pickle\n",
    "\n",
    "# Load Keras Model\n",
    "loaded_model = load_model('model.h5')\n",
    "\n",
    "# Load Word2Vec Model\n",
    "loaded_w2v_model = gensim.models.Word2Vec.load('model.w2v')\n",
    "\n",
    "# Load Tokenizer\n",
    "with open('tokenizer.pkl', 'rb') as file:\n",
    "    loaded_tokenizer = pickle.load(file)\n",
    "\n",
    "# Load Label Encoder\n",
    "with open('encoder.pkl', 'rb') as file:\n",
    "    loaded_encoder = pickle.load(file)\n"
   ]
  },
  {
   "cell_type": "code",
   "execution_count": 21,
   "id": "d641f2bb-34d7-47e5-8b26-7284c10cf5df",
   "metadata": {
    "tags": []
   },
   "outputs": [],
   "source": [
    "def predict(text, include_neutral=True):\n",
    "    start_at = time.time()\n",
    "    # Tokenize text\n",
    "    x_test = pad_sequences(tokenizer.texts_to_sequences([text]), maxlen=SEQUENCE_LENGTH)\n",
    "    # Predict\n",
    "    score = loaded_model.predict([x_test])[0]\n",
    "    print(\"Raw Score:\", score)  # Print raw score for debugging purposes\n",
    "    # Decode sentiment with include_neutral\n",
    "    label = decode_sentiment(score, include_neutral=include_neutral)\n",
    "\n",
    "    return {\"label\": label, \"score\": float(score),\n",
    "            \"elapsed_time\": time.time()-start_at} "
   ]
  },
  {
   "cell_type": "code",
   "execution_count": 20,
   "id": "452bb542-45b2-400c-bbd4-ccc674bb3829",
   "metadata": {
    "tags": []
   },
   "outputs": [
    {
     "name": "stdout",
     "output_type": "stream",
     "text": [
      "1/1 [==============================] - 0s 84ms/step\n",
      "Raw Score: [0.978851]\n"
     ]
    },
    {
     "data": {
      "text/plain": [
       "{'label': 'POSITIVE',\n",
       " 'score': 0.9788510203361511,\n",
       " 'elapsed_time': 0.14308738708496094}"
      ]
     },
     "execution_count": 20,
     "metadata": {},
     "output_type": "execute_result"
    }
   ],
   "source": [
    "predict(\"I enjoy watching documentaries.\")"
   ]
  },
  {
   "cell_type": "code",
   "execution_count": 4,
   "id": "fc385839-8fa3-486c-8543-5643bafa2f22",
   "metadata": {
    "tags": []
   },
   "outputs": [],
   "source": [
    "import time"
   ]
  },
  {
   "cell_type": "code",
   "execution_count": 3,
   "id": "3a3b208f-ee58-4266-ab24-2c552b4c6268",
   "metadata": {
    "tags": []
   },
   "outputs": [],
   "source": [
    "# DataFrame\n",
    "import pandas as pd\n",
    "\n",
    "# Matplot\n",
    "import matplotlib.pyplot as plt\n",
    "%matplotlib inline\n",
    "\n",
    "# Scikit-learn\n",
    "from sklearn.model_selection import train_test_split\n",
    "from sklearn.preprocessing import LabelEncoder\n",
    "from sklearn.metrics import confusion_matrix, classification_report, accuracy_score\n",
    "from sklearn.manifold import TSNE\n",
    "from sklearn.feature_extraction.text import TfidfVectorizer\n",
    "\n",
    "# Keras\n",
    "from keras.preprocessing.text import Tokenizer\n",
    "from keras.preprocessing.sequence import pad_sequences\n",
    "from keras.models import Sequential\n",
    "from keras.layers import Activation, Dense, Dropout, Embedding, Flatten, Conv1D, MaxPooling1D, LSTM\n",
    "from keras import utils\n",
    "from keras.callbacks import ReduceLROnPlateau, EarlyStopping\n",
    "\n",
    "# nltk\n",
    "import nltk\n",
    "from nltk.corpus import stopwords\n",
    "from  nltk.stem import SnowballStemmer\n",
    "\n",
    "# Word2vec\n",
    "import gensim\n",
    "\n",
    "# Utility\n",
    "import re\n",
    "import numpy as np\n",
    "import os\n",
    "from collections import Counter\n",
    "import logging\n",
    "import time\n",
    "import pickle\n",
    "import tqdm\n",
    "import itertools\n",
    "\n",
    "# Set log\n",
    "logging.basicConfig(format='%(asctime)s : %(levelname)s : %(message)s', level=logging.INFO)"
   ]
  },
  {
   "cell_type": "code",
   "execution_count": 7,
   "id": "c3875ab4-4799-4546-ae72-b87626015ac6",
   "metadata": {
    "tags": []
   },
   "outputs": [
    {
     "name": "stdout",
     "output_type": "stream",
     "text": [
      "Total words 594849\n",
      "CPU times: total: 5.97 s\n",
      "Wall time: 14.5 s\n"
     ]
    }
   ],
   "source": [
    "%%time\n",
    "tokenizer = Tokenizer()\n",
    "tokenizer.fit_on_texts(df_train.text)\n",
    "\n",
    "vocab_size = len(tokenizer.word_index) + 1\n",
    "print(\"Total words\", vocab_size)"
   ]
  },
  {
   "cell_type": "code",
   "execution_count": 6,
   "id": "bd0f4a75-279b-4e3d-954e-1dd0698175ac",
   "metadata": {
    "tags": []
   },
   "outputs": [
    {
     "name": "stdout",
     "output_type": "stream",
     "text": [
      "TRAIN size: 1280000\n",
      "TEST size: 320000\n"
     ]
    }
   ],
   "source": [
    "df_train, df_test = train_test_split(df, test_size=1-TRAIN_SIZE, random_state=42)\n",
    "print(\"TRAIN size:\", len(df_train))\n",
    "print(\"TEST size:\", len(df_test))"
   ]
  },
  {
   "cell_type": "code",
   "execution_count": 5,
   "id": "83ca12fd-18bc-4b67-8623-eb625fa4a936",
   "metadata": {
    "tags": []
   },
   "outputs": [
    {
     "name": "stdout",
     "output_type": "stream",
     "text": [
      "Open file: C:\\Users\\HP\\Desktop\\training.1600000.processed.noemoticon.csv\n"
     ]
    }
   ],
   "source": [
    "# Specify the absolute path to the dataset\n",
    "dataset_path = r\"C:\\Users\\HP\\Desktop\\training.1600000.processed.noemoticon.csv\"\n",
    "\n",
    "# Print information about the dataset\n",
    "print(\"Open file:\", dataset_path)\n",
    "\n",
    "# Read the dataset into a DataFrame\n",
    "df = pd.read_csv(dataset_path, encoding=DATASET_ENCODING, names=DATASET_COLUMNS)\n"
   ]
  },
  {
   "cell_type": "code",
   "execution_count": 4,
   "id": "d2455f46-fe0e-4af2-8504-836b8eba9140",
   "metadata": {
    "tags": []
   },
   "outputs": [],
   "source": [
    "# DATASET\n",
    "DATASET_COLUMNS = [\"target\", \"ids\", \"date\", \"flag\", \"user\", \"text\"]\n",
    "DATASET_ENCODING = \"ISO-8859-1\"\n",
    "TRAIN_SIZE = 0.8\n",
    "\n",
    "# TEXT CLENAING\n",
    "TEXT_CLEANING_RE = \"@\\S+|https?:\\S+|http?:\\S|[^A-Za-z0-9]+\"\n",
    "\n",
    "# WORD2VEC \n",
    "W2V_SIZE = 300\n",
    "W2V_WINDOW = 7\n",
    "W2V_EPOCH = 32\n",
    "W2V_MIN_COUNT = 10\n",
    "\n",
    "# KERAS\n",
    "SEQUENCE_LENGTH = 300\n",
    "EPOCHS = 8\n",
    "BATCH_SIZE = 1024\n",
    "\n",
    "# SENTIMENT\n",
    "POSITIVE = \"POSITIVE\"\n",
    "NEGATIVE = \"NEGATIVE\"\n",
    "NEUTRAL = \"NEUTRAL\"\n",
    "SENTIMENT_THRESHOLDS = (0.4, 0.7)\n",
    "\n",
    "# EXPORT\n",
    "KERAS_MODEL = \"model.h5\"\n",
    "WORD2VEC_MODEL = \"model.w2v\"\n",
    "TOKENIZER_MODEL = \"tokenizer.pkl\"\n",
    "ENCODER_MODEL = \"encoder.pkl\""
   ]
  },
  {
   "cell_type": "code",
   "execution_count": 8,
   "id": "4c2b0413-2c1b-409a-a3e5-adbf39c2d85c",
   "metadata": {
    "tags": []
   },
   "outputs": [],
   "source": [
    "def decode_sentiment(score, include_neutral=True):\n",
    "    if include_neutral:\n",
    "        if score <= SENTIMENT_THRESHOLDS[0]:\n",
    "            return NEGATIVE\n",
    "        elif score >= SENTIMENT_THRESHOLDS[1]:\n",
    "            return POSITIVE\n",
    "        else:\n",
    "            return NEUTRAL\n",
    "    else:\n",
    "        return NEGATIVE if score < 0.5 else POSITIVE"
   ]
  },
  {
   "cell_type": "code",
   "execution_count": 13,
   "id": "92fa7b48-a8c4-4c4c-94ae-09c6c33801b8",
   "metadata": {
    "tags": []
   },
   "outputs": [
    {
     "name": "stdout",
     "output_type": "stream",
     "text": [
      "1/1 [==============================] - 0s 31ms/step\n",
      "Raw Score: [0.3615023]\n"
     ]
    },
    {
     "data": {
      "text/plain": [
       "{'label': 'NEGATIVE',\n",
       " 'score': 0.3615022897720337,\n",
       " 'elapsed_time': 0.06374692916870117}"
      ]
     },
     "execution_count": 13,
     "metadata": {},
     "output_type": "execute_result"
    }
   ],
   "source": [
    "predict(\"The book is on the shelf.\")"
   ]
  },
  {
   "cell_type": "code",
   "execution_count": 11,
   "id": "8636f07a-564b-4c89-8a39-7eb9ffad29e0",
   "metadata": {
    "tags": []
   },
   "outputs": [
    {
     "name": "stdout",
     "output_type": "stream",
     "text": [
      "1/1 [==============================] - 0s 214ms/step\n",
      "Raw Score: [0.8145949]\n"
     ]
    },
    {
     "data": {
      "text/plain": [
       "{'label': 'POSITIVE',\n",
       " 'score': 0.8145949244499207,\n",
       " 'elapsed_time': 0.267749547958374}"
      ]
     },
     "execution_count": 11,
     "metadata": {},
     "output_type": "execute_result"
    }
   ],
   "source": [
    "predict(\"I really liked that movie.\")"
   ]
  },
  {
   "cell_type": "code",
   "execution_count": 12,
   "id": "35abbe28-936f-4ba5-8654-11dcdeaa0848",
   "metadata": {
    "tags": []
   },
   "outputs": [
    {
     "name": "stdout",
     "output_type": "stream",
     "text": [
      "1/1 [==============================] - 0s 33ms/step\n",
      "Raw Score: [0.9669607]\n"
     ]
    },
    {
     "data": {
      "text/plain": [
       "{'label': 'POSITIVE',\n",
       " 'score': 0.9669607281684875,\n",
       " 'elapsed_time': 0.07051825523376465}"
      ]
     },
     "execution_count": 12,
     "metadata": {},
     "output_type": "execute_result"
    }
   ],
   "source": [
    "predict(\"I am not able to pass this exam. #sad_life\")"
   ]
  },
  {
   "cell_type": "code",
   "execution_count": 38,
   "id": "56d1cf87-dafb-4464-a5f4-10e6a8162a69",
   "metadata": {
    "tags": []
   },
   "outputs": [
    {
     "name": "stdout",
     "output_type": "stream",
     "text": [
      "1/1 [==============================] - 0s 29ms/step\n",
      "Raw Score: [0.7464534]\n"
     ]
    },
    {
     "data": {
      "text/plain": [
       "{'label': 'POSITIVE',\n",
       " 'score': 0.7464534044265747,\n",
       " 'elapsed_time': 0.05935478210449219}"
      ]
     },
     "execution_count": 38,
     "metadata": {},
     "output_type": "execute_result"
    }
   ],
   "source": [
    "predict(\"I am not that amused\")"
   ]
  },
  {
   "cell_type": "code",
   "execution_count": 30,
   "id": "060d9796-cd77-48d5-b5e1-6786272b6018",
   "metadata": {},
   "outputs": [
    {
     "ename": "InvalidArgumentError",
     "evalue": "Graph execution error:\n\nDetected at node sequential/embedding/embedding_lookup defined at (most recent call last):\n  File \"<frozen runpy>\", line 198, in _run_module_as_main\n\n  File \"<frozen runpy>\", line 88, in _run_code\n\n  File \"C:\\Users\\HP\\anaconda3\\Lib\\site-packages\\ipykernel_launcher.py\", line 17, in <module>\n\n  File \"C:\\Users\\HP\\anaconda3\\Lib\\site-packages\\traitlets\\config\\application.py\", line 992, in launch_instance\n\n  File \"C:\\Users\\HP\\anaconda3\\Lib\\site-packages\\ipykernel\\kernelapp.py\", line 736, in start\n\n  File \"C:\\Users\\HP\\anaconda3\\Lib\\site-packages\\tornado\\platform\\asyncio.py\", line 195, in start\n\n  File \"C:\\Users\\HP\\anaconda3\\Lib\\asyncio\\base_events.py\", line 607, in run_forever\n\n  File \"C:\\Users\\HP\\anaconda3\\Lib\\asyncio\\base_events.py\", line 1922, in _run_once\n\n  File \"C:\\Users\\HP\\anaconda3\\Lib\\asyncio\\events.py\", line 80, in _run\n\n  File \"C:\\Users\\HP\\anaconda3\\Lib\\site-packages\\ipykernel\\kernelbase.py\", line 516, in dispatch_queue\n\n  File \"C:\\Users\\HP\\anaconda3\\Lib\\site-packages\\ipykernel\\kernelbase.py\", line 505, in process_one\n\n  File \"C:\\Users\\HP\\anaconda3\\Lib\\site-packages\\ipykernel\\kernelbase.py\", line 412, in dispatch_shell\n\n  File \"C:\\Users\\HP\\anaconda3\\Lib\\site-packages\\ipykernel\\kernelbase.py\", line 740, in execute_request\n\n  File \"C:\\Users\\HP\\anaconda3\\Lib\\site-packages\\ipykernel\\ipkernel.py\", line 422, in do_execute\n\n  File \"C:\\Users\\HP\\anaconda3\\Lib\\site-packages\\ipykernel\\zmqshell.py\", line 546, in run_cell\n\n  File \"C:\\Users\\HP\\anaconda3\\Lib\\site-packages\\IPython\\core\\interactiveshell.py\", line 3024, in run_cell\n\n  File \"C:\\Users\\HP\\anaconda3\\Lib\\site-packages\\IPython\\core\\interactiveshell.py\", line 3079, in _run_cell\n\n  File \"C:\\Users\\HP\\anaconda3\\Lib\\site-packages\\IPython\\core\\async_helpers.py\", line 129, in _pseudo_sync_runner\n\n  File \"C:\\Users\\HP\\anaconda3\\Lib\\site-packages\\IPython\\core\\interactiveshell.py\", line 3284, in run_cell_async\n\n  File \"C:\\Users\\HP\\anaconda3\\Lib\\site-packages\\IPython\\core\\interactiveshell.py\", line 3466, in run_ast_nodes\n\n  File \"C:\\Users\\HP\\anaconda3\\Lib\\site-packages\\IPython\\core\\interactiveshell.py\", line 3526, in run_code\n\n  File \"C:\\Users\\HP\\AppData\\Local\\Temp\\ipykernel_11396\\3879598413.py\", line 1, in <module>\n\n  File \"C:\\Users\\HP\\anaconda3\\Lib\\site-packages\\IPython\\core\\interactiveshell.py\", line 2493, in run_cell_magic\n\n  File \"C:\\Users\\HP\\anaconda3\\Lib\\site-packages\\IPython\\core\\magics\\execution.py\", line 1340, in time\n\n  File \"<timed exec>\", line 3, in <module>\n\n  File \"C:\\Users\\HP\\anaconda3\\Lib\\site-packages\\keras\\src\\utils\\traceback_utils.py\", line 65, in error_handler\n\n  File \"C:\\Users\\HP\\anaconda3\\Lib\\site-packages\\keras\\src\\engine\\training.py\", line 2655, in predict\n\n  File \"C:\\Users\\HP\\anaconda3\\Lib\\site-packages\\keras\\src\\engine\\training.py\", line 2440, in predict_function\n\n  File \"C:\\Users\\HP\\anaconda3\\Lib\\site-packages\\keras\\src\\engine\\training.py\", line 2425, in step_function\n\n  File \"C:\\Users\\HP\\anaconda3\\Lib\\site-packages\\keras\\src\\engine\\training.py\", line 2413, in run_step\n\n  File \"C:\\Users\\HP\\anaconda3\\Lib\\site-packages\\keras\\src\\engine\\training.py\", line 2381, in predict_step\n\n  File \"C:\\Users\\HP\\anaconda3\\Lib\\site-packages\\keras\\src\\utils\\traceback_utils.py\", line 65, in error_handler\n\n  File \"C:\\Users\\HP\\anaconda3\\Lib\\site-packages\\keras\\src\\engine\\training.py\", line 590, in __call__\n\n  File \"C:\\Users\\HP\\anaconda3\\Lib\\site-packages\\keras\\src\\utils\\traceback_utils.py\", line 65, in error_handler\n\n  File \"C:\\Users\\HP\\anaconda3\\Lib\\site-packages\\keras\\src\\engine\\base_layer.py\", line 1149, in __call__\n\n  File \"C:\\Users\\HP\\anaconda3\\Lib\\site-packages\\keras\\src\\utils\\traceback_utils.py\", line 96, in error_handler\n\n  File \"C:\\Users\\HP\\anaconda3\\Lib\\site-packages\\keras\\src\\engine\\sequential.py\", line 398, in call\n\n  File \"C:\\Users\\HP\\anaconda3\\Lib\\site-packages\\keras\\src\\engine\\functional.py\", line 515, in call\n\n  File \"C:\\Users\\HP\\anaconda3\\Lib\\site-packages\\keras\\src\\engine\\functional.py\", line 672, in _run_internal_graph\n\n  File \"C:\\Users\\HP\\anaconda3\\Lib\\site-packages\\keras\\src\\utils\\traceback_utils.py\", line 65, in error_handler\n\n  File \"C:\\Users\\HP\\anaconda3\\Lib\\site-packages\\keras\\src\\engine\\base_layer.py\", line 1149, in __call__\n\n  File \"C:\\Users\\HP\\anaconda3\\Lib\\site-packages\\keras\\src\\utils\\traceback_utils.py\", line 96, in error_handler\n\n  File \"C:\\Users\\HP\\anaconda3\\Lib\\site-packages\\keras\\src\\layers\\core\\embedding.py\", line 272, in call\n\nindices[6848,284] = 561209 is not in [0, 290419)\n\t [[{{node sequential/embedding/embedding_lookup}}]] [Op:__inference_predict_function_1790]",
     "output_type": "error",
     "traceback": [
      "\u001b[1;31m---------------------------------------------------------------------------\u001b[0m",
      "\u001b[1;31mInvalidArgumentError\u001b[0m                      Traceback (most recent call last)",
      "File \u001b[1;32m<timed exec>:3\u001b[0m\n",
      "File \u001b[1;32m~\\anaconda3\\Lib\\site-packages\\keras\\src\\utils\\traceback_utils.py:70\u001b[0m, in \u001b[0;36mfilter_traceback.<locals>.error_handler\u001b[1;34m(*args, **kwargs)\u001b[0m\n\u001b[0;32m     67\u001b[0m     filtered_tb \u001b[38;5;241m=\u001b[39m _process_traceback_frames(e\u001b[38;5;241m.\u001b[39m__traceback__)\n\u001b[0;32m     68\u001b[0m     \u001b[38;5;66;03m# To get the full stack trace, call:\u001b[39;00m\n\u001b[0;32m     69\u001b[0m     \u001b[38;5;66;03m# `tf.debugging.disable_traceback_filtering()`\u001b[39;00m\n\u001b[1;32m---> 70\u001b[0m     \u001b[38;5;28;01mraise\u001b[39;00m e\u001b[38;5;241m.\u001b[39mwith_traceback(filtered_tb) \u001b[38;5;28;01mfrom\u001b[39;00m \u001b[38;5;28;01mNone\u001b[39;00m\n\u001b[0;32m     71\u001b[0m \u001b[38;5;28;01mfinally\u001b[39;00m:\n\u001b[0;32m     72\u001b[0m     \u001b[38;5;28;01mdel\u001b[39;00m filtered_tb\n",
      "File \u001b[1;32m~\\anaconda3\\Lib\\site-packages\\tensorflow\\python\\eager\\execute.py:53\u001b[0m, in \u001b[0;36mquick_execute\u001b[1;34m(op_name, num_outputs, inputs, attrs, ctx, name)\u001b[0m\n\u001b[0;32m     51\u001b[0m \u001b[38;5;28;01mtry\u001b[39;00m:\n\u001b[0;32m     52\u001b[0m   ctx\u001b[38;5;241m.\u001b[39mensure_initialized()\n\u001b[1;32m---> 53\u001b[0m   tensors \u001b[38;5;241m=\u001b[39m pywrap_tfe\u001b[38;5;241m.\u001b[39mTFE_Py_Execute(ctx\u001b[38;5;241m.\u001b[39m_handle, device_name, op_name,\n\u001b[0;32m     54\u001b[0m                                       inputs, attrs, num_outputs)\n\u001b[0;32m     55\u001b[0m \u001b[38;5;28;01mexcept\u001b[39;00m core\u001b[38;5;241m.\u001b[39m_NotOkStatusException \u001b[38;5;28;01mas\u001b[39;00m e:\n\u001b[0;32m     56\u001b[0m   \u001b[38;5;28;01mif\u001b[39;00m name \u001b[38;5;129;01mis\u001b[39;00m \u001b[38;5;129;01mnot\u001b[39;00m \u001b[38;5;28;01mNone\u001b[39;00m:\n",
      "\u001b[1;31mInvalidArgumentError\u001b[0m: Graph execution error:\n\nDetected at node sequential/embedding/embedding_lookup defined at (most recent call last):\n  File \"<frozen runpy>\", line 198, in _run_module_as_main\n\n  File \"<frozen runpy>\", line 88, in _run_code\n\n  File \"C:\\Users\\HP\\anaconda3\\Lib\\site-packages\\ipykernel_launcher.py\", line 17, in <module>\n\n  File \"C:\\Users\\HP\\anaconda3\\Lib\\site-packages\\traitlets\\config\\application.py\", line 992, in launch_instance\n\n  File \"C:\\Users\\HP\\anaconda3\\Lib\\site-packages\\ipykernel\\kernelapp.py\", line 736, in start\n\n  File \"C:\\Users\\HP\\anaconda3\\Lib\\site-packages\\tornado\\platform\\asyncio.py\", line 195, in start\n\n  File \"C:\\Users\\HP\\anaconda3\\Lib\\asyncio\\base_events.py\", line 607, in run_forever\n\n  File \"C:\\Users\\HP\\anaconda3\\Lib\\asyncio\\base_events.py\", line 1922, in _run_once\n\n  File \"C:\\Users\\HP\\anaconda3\\Lib\\asyncio\\events.py\", line 80, in _run\n\n  File \"C:\\Users\\HP\\anaconda3\\Lib\\site-packages\\ipykernel\\kernelbase.py\", line 516, in dispatch_queue\n\n  File \"C:\\Users\\HP\\anaconda3\\Lib\\site-packages\\ipykernel\\kernelbase.py\", line 505, in process_one\n\n  File \"C:\\Users\\HP\\anaconda3\\Lib\\site-packages\\ipykernel\\kernelbase.py\", line 412, in dispatch_shell\n\n  File \"C:\\Users\\HP\\anaconda3\\Lib\\site-packages\\ipykernel\\kernelbase.py\", line 740, in execute_request\n\n  File \"C:\\Users\\HP\\anaconda3\\Lib\\site-packages\\ipykernel\\ipkernel.py\", line 422, in do_execute\n\n  File \"C:\\Users\\HP\\anaconda3\\Lib\\site-packages\\ipykernel\\zmqshell.py\", line 546, in run_cell\n\n  File \"C:\\Users\\HP\\anaconda3\\Lib\\site-packages\\IPython\\core\\interactiveshell.py\", line 3024, in run_cell\n\n  File \"C:\\Users\\HP\\anaconda3\\Lib\\site-packages\\IPython\\core\\interactiveshell.py\", line 3079, in _run_cell\n\n  File \"C:\\Users\\HP\\anaconda3\\Lib\\site-packages\\IPython\\core\\async_helpers.py\", line 129, in _pseudo_sync_runner\n\n  File \"C:\\Users\\HP\\anaconda3\\Lib\\site-packages\\IPython\\core\\interactiveshell.py\", line 3284, in run_cell_async\n\n  File \"C:\\Users\\HP\\anaconda3\\Lib\\site-packages\\IPython\\core\\interactiveshell.py\", line 3466, in run_ast_nodes\n\n  File \"C:\\Users\\HP\\anaconda3\\Lib\\site-packages\\IPython\\core\\interactiveshell.py\", line 3526, in run_code\n\n  File \"C:\\Users\\HP\\AppData\\Local\\Temp\\ipykernel_11396\\3879598413.py\", line 1, in <module>\n\n  File \"C:\\Users\\HP\\anaconda3\\Lib\\site-packages\\IPython\\core\\interactiveshell.py\", line 2493, in run_cell_magic\n\n  File \"C:\\Users\\HP\\anaconda3\\Lib\\site-packages\\IPython\\core\\magics\\execution.py\", line 1340, in time\n\n  File \"<timed exec>\", line 3, in <module>\n\n  File \"C:\\Users\\HP\\anaconda3\\Lib\\site-packages\\keras\\src\\utils\\traceback_utils.py\", line 65, in error_handler\n\n  File \"C:\\Users\\HP\\anaconda3\\Lib\\site-packages\\keras\\src\\engine\\training.py\", line 2655, in predict\n\n  File \"C:\\Users\\HP\\anaconda3\\Lib\\site-packages\\keras\\src\\engine\\training.py\", line 2440, in predict_function\n\n  File \"C:\\Users\\HP\\anaconda3\\Lib\\site-packages\\keras\\src\\engine\\training.py\", line 2425, in step_function\n\n  File \"C:\\Users\\HP\\anaconda3\\Lib\\site-packages\\keras\\src\\engine\\training.py\", line 2413, in run_step\n\n  File \"C:\\Users\\HP\\anaconda3\\Lib\\site-packages\\keras\\src\\engine\\training.py\", line 2381, in predict_step\n\n  File \"C:\\Users\\HP\\anaconda3\\Lib\\site-packages\\keras\\src\\utils\\traceback_utils.py\", line 65, in error_handler\n\n  File \"C:\\Users\\HP\\anaconda3\\Lib\\site-packages\\keras\\src\\engine\\training.py\", line 590, in __call__\n\n  File \"C:\\Users\\HP\\anaconda3\\Lib\\site-packages\\keras\\src\\utils\\traceback_utils.py\", line 65, in error_handler\n\n  File \"C:\\Users\\HP\\anaconda3\\Lib\\site-packages\\keras\\src\\engine\\base_layer.py\", line 1149, in __call__\n\n  File \"C:\\Users\\HP\\anaconda3\\Lib\\site-packages\\keras\\src\\utils\\traceback_utils.py\", line 96, in error_handler\n\n  File \"C:\\Users\\HP\\anaconda3\\Lib\\site-packages\\keras\\src\\engine\\sequential.py\", line 398, in call\n\n  File \"C:\\Users\\HP\\anaconda3\\Lib\\site-packages\\keras\\src\\engine\\functional.py\", line 515, in call\n\n  File \"C:\\Users\\HP\\anaconda3\\Lib\\site-packages\\keras\\src\\engine\\functional.py\", line 672, in _run_internal_graph\n\n  File \"C:\\Users\\HP\\anaconda3\\Lib\\site-packages\\keras\\src\\utils\\traceback_utils.py\", line 65, in error_handler\n\n  File \"C:\\Users\\HP\\anaconda3\\Lib\\site-packages\\keras\\src\\engine\\base_layer.py\", line 1149, in __call__\n\n  File \"C:\\Users\\HP\\anaconda3\\Lib\\site-packages\\keras\\src\\utils\\traceback_utils.py\", line 96, in error_handler\n\n  File \"C:\\Users\\HP\\anaconda3\\Lib\\site-packages\\keras\\src\\layers\\core\\embedding.py\", line 272, in call\n\nindices[6848,284] = 561209 is not in [0, 290419)\n\t [[{{node sequential/embedding/embedding_lookup}}]] [Op:__inference_predict_function_1790]"
     ]
    }
   ],
   "source": [
    "%%time\n",
    "y_pred_1d = []\n",
    "y_test_1d = list(df_test.target)\n",
    "scores = loaded_model.predict(x_test, verbose=1, batch_size=8000)\n",
    "y_pred_1d = [decode_sentiment(score[0], include_neutral=False) for score in scores]"
   ]
  },
  {
   "cell_type": "code",
   "execution_count": 27,
   "id": "75d8da25-648a-4dc0-868f-72ee89adb190",
   "metadata": {},
   "outputs": [
    {
     "name": "stdout",
     "output_type": "stream",
     "text": [
      "WARNING:tensorflow:From C:\\Users\\HP\\anaconda3\\Lib\\site-packages\\keras\\src\\utils\\tf_utils.py:492: The name tf.ragged.RaggedTensorValue is deprecated. Please use tf.compat.v1.ragged.RaggedTensorValue instead.\n",
      "\n"
     ]
    },
    {
     "name": "stderr",
     "output_type": "stream",
     "text": [
      "2023-12-09 23:57:55,963 : WARNING : From C:\\Users\\HP\\anaconda3\\Lib\\site-packages\\keras\\src\\utils\\tf_utils.py:492: The name tf.ragged.RaggedTensorValue is deprecated. Please use tf.compat.v1.ragged.RaggedTensorValue instead.\n",
      "\n"
     ]
    },
    {
     "ename": "InvalidArgumentError",
     "evalue": "Graph execution error:\n\nDetected at node sequential/embedding/embedding_lookup defined at (most recent call last):\n  File \"<frozen runpy>\", line 198, in _run_module_as_main\n\n  File \"<frozen runpy>\", line 88, in _run_code\n\n  File \"C:\\Users\\HP\\anaconda3\\Lib\\site-packages\\ipykernel_launcher.py\", line 17, in <module>\n\n  File \"C:\\Users\\HP\\anaconda3\\Lib\\site-packages\\traitlets\\config\\application.py\", line 992, in launch_instance\n\n  File \"C:\\Users\\HP\\anaconda3\\Lib\\site-packages\\ipykernel\\kernelapp.py\", line 736, in start\n\n  File \"C:\\Users\\HP\\anaconda3\\Lib\\site-packages\\tornado\\platform\\asyncio.py\", line 195, in start\n\n  File \"C:\\Users\\HP\\anaconda3\\Lib\\asyncio\\base_events.py\", line 607, in run_forever\n\n  File \"C:\\Users\\HP\\anaconda3\\Lib\\asyncio\\base_events.py\", line 1922, in _run_once\n\n  File \"C:\\Users\\HP\\anaconda3\\Lib\\asyncio\\events.py\", line 80, in _run\n\n  File \"C:\\Users\\HP\\anaconda3\\Lib\\site-packages\\ipykernel\\kernelbase.py\", line 516, in dispatch_queue\n\n  File \"C:\\Users\\HP\\anaconda3\\Lib\\site-packages\\ipykernel\\kernelbase.py\", line 505, in process_one\n\n  File \"C:\\Users\\HP\\anaconda3\\Lib\\site-packages\\ipykernel\\kernelbase.py\", line 412, in dispatch_shell\n\n  File \"C:\\Users\\HP\\anaconda3\\Lib\\site-packages\\ipykernel\\kernelbase.py\", line 740, in execute_request\n\n  File \"C:\\Users\\HP\\anaconda3\\Lib\\site-packages\\ipykernel\\ipkernel.py\", line 422, in do_execute\n\n  File \"C:\\Users\\HP\\anaconda3\\Lib\\site-packages\\ipykernel\\zmqshell.py\", line 546, in run_cell\n\n  File \"C:\\Users\\HP\\anaconda3\\Lib\\site-packages\\IPython\\core\\interactiveshell.py\", line 3024, in run_cell\n\n  File \"C:\\Users\\HP\\anaconda3\\Lib\\site-packages\\IPython\\core\\interactiveshell.py\", line 3079, in _run_cell\n\n  File \"C:\\Users\\HP\\anaconda3\\Lib\\site-packages\\IPython\\core\\async_helpers.py\", line 129, in _pseudo_sync_runner\n\n  File \"C:\\Users\\HP\\anaconda3\\Lib\\site-packages\\IPython\\core\\interactiveshell.py\", line 3284, in run_cell_async\n\n  File \"C:\\Users\\HP\\anaconda3\\Lib\\site-packages\\IPython\\core\\interactiveshell.py\", line 3466, in run_ast_nodes\n\n  File \"C:\\Users\\HP\\anaconda3\\Lib\\site-packages\\IPython\\core\\interactiveshell.py\", line 3526, in run_code\n\n  File \"C:\\Users\\HP\\AppData\\Local\\Temp\\ipykernel_11396\\3126587349.py\", line 1, in <module>\n\n  File \"C:\\Users\\HP\\anaconda3\\Lib\\site-packages\\IPython\\core\\interactiveshell.py\", line 2493, in run_cell_magic\n\n  File \"C:\\Users\\HP\\anaconda3\\Lib\\site-packages\\IPython\\core\\magics\\execution.py\", line 1340, in time\n\n  File \"<timed exec>\", line 1, in <module>\n\n  File \"C:\\Users\\HP\\anaconda3\\Lib\\site-packages\\keras\\src\\utils\\traceback_utils.py\", line 65, in error_handler\n\n  File \"C:\\Users\\HP\\anaconda3\\Lib\\site-packages\\keras\\src\\engine\\training.py\", line 2296, in evaluate\n\n  File \"C:\\Users\\HP\\anaconda3\\Lib\\site-packages\\keras\\src\\engine\\training.py\", line 4108, in run_step\n\n  File \"C:\\Users\\HP\\anaconda3\\Lib\\site-packages\\keras\\src\\engine\\training.py\", line 2066, in test_function\n\n  File \"C:\\Users\\HP\\anaconda3\\Lib\\site-packages\\keras\\src\\engine\\training.py\", line 2049, in step_function\n\n  File \"C:\\Users\\HP\\anaconda3\\Lib\\site-packages\\keras\\src\\engine\\training.py\", line 2037, in run_step\n\n  File \"C:\\Users\\HP\\anaconda3\\Lib\\site-packages\\keras\\src\\engine\\training.py\", line 1917, in test_step\n\n  File \"C:\\Users\\HP\\anaconda3\\Lib\\site-packages\\keras\\src\\utils\\traceback_utils.py\", line 65, in error_handler\n\n  File \"C:\\Users\\HP\\anaconda3\\Lib\\site-packages\\keras\\src\\engine\\training.py\", line 590, in __call__\n\n  File \"C:\\Users\\HP\\anaconda3\\Lib\\site-packages\\keras\\src\\utils\\traceback_utils.py\", line 65, in error_handler\n\n  File \"C:\\Users\\HP\\anaconda3\\Lib\\site-packages\\keras\\src\\engine\\base_layer.py\", line 1149, in __call__\n\n  File \"C:\\Users\\HP\\anaconda3\\Lib\\site-packages\\keras\\src\\utils\\traceback_utils.py\", line 96, in error_handler\n\n  File \"C:\\Users\\HP\\anaconda3\\Lib\\site-packages\\keras\\src\\engine\\sequential.py\", line 398, in call\n\n  File \"C:\\Users\\HP\\anaconda3\\Lib\\site-packages\\keras\\src\\engine\\functional.py\", line 515, in call\n\n  File \"C:\\Users\\HP\\anaconda3\\Lib\\site-packages\\keras\\src\\engine\\functional.py\", line 672, in _run_internal_graph\n\n  File \"C:\\Users\\HP\\anaconda3\\Lib\\site-packages\\keras\\src\\utils\\traceback_utils.py\", line 65, in error_handler\n\n  File \"C:\\Users\\HP\\anaconda3\\Lib\\site-packages\\keras\\src\\engine\\base_layer.py\", line 1149, in __call__\n\n  File \"C:\\Users\\HP\\anaconda3\\Lib\\site-packages\\keras\\src\\utils\\traceback_utils.py\", line 96, in error_handler\n\n  File \"C:\\Users\\HP\\anaconda3\\Lib\\site-packages\\keras\\src\\layers\\core\\embedding.py\", line 272, in call\n\nindices[380,292] = 315798 is not in [0, 290419)\n\t [[{{node sequential/embedding/embedding_lookup}}]] [Op:__inference_test_function_1470]",
     "output_type": "error",
     "traceback": [
      "\u001b[1;31m---------------------------------------------------------------------------\u001b[0m",
      "\u001b[1;31mInvalidArgumentError\u001b[0m                      Traceback (most recent call last)",
      "File \u001b[1;32m<timed exec>:1\u001b[0m\n",
      "File \u001b[1;32m~\\anaconda3\\Lib\\site-packages\\keras\\src\\utils\\traceback_utils.py:70\u001b[0m, in \u001b[0;36mfilter_traceback.<locals>.error_handler\u001b[1;34m(*args, **kwargs)\u001b[0m\n\u001b[0;32m     67\u001b[0m     filtered_tb \u001b[38;5;241m=\u001b[39m _process_traceback_frames(e\u001b[38;5;241m.\u001b[39m__traceback__)\n\u001b[0;32m     68\u001b[0m     \u001b[38;5;66;03m# To get the full stack trace, call:\u001b[39;00m\n\u001b[0;32m     69\u001b[0m     \u001b[38;5;66;03m# `tf.debugging.disable_traceback_filtering()`\u001b[39;00m\n\u001b[1;32m---> 70\u001b[0m     \u001b[38;5;28;01mraise\u001b[39;00m e\u001b[38;5;241m.\u001b[39mwith_traceback(filtered_tb) \u001b[38;5;28;01mfrom\u001b[39;00m \u001b[38;5;28;01mNone\u001b[39;00m\n\u001b[0;32m     71\u001b[0m \u001b[38;5;28;01mfinally\u001b[39;00m:\n\u001b[0;32m     72\u001b[0m     \u001b[38;5;28;01mdel\u001b[39;00m filtered_tb\n",
      "File \u001b[1;32m~\\anaconda3\\Lib\\site-packages\\tensorflow\\python\\eager\\execute.py:53\u001b[0m, in \u001b[0;36mquick_execute\u001b[1;34m(op_name, num_outputs, inputs, attrs, ctx, name)\u001b[0m\n\u001b[0;32m     51\u001b[0m \u001b[38;5;28;01mtry\u001b[39;00m:\n\u001b[0;32m     52\u001b[0m   ctx\u001b[38;5;241m.\u001b[39mensure_initialized()\n\u001b[1;32m---> 53\u001b[0m   tensors \u001b[38;5;241m=\u001b[39m pywrap_tfe\u001b[38;5;241m.\u001b[39mTFE_Py_Execute(ctx\u001b[38;5;241m.\u001b[39m_handle, device_name, op_name,\n\u001b[0;32m     54\u001b[0m                                       inputs, attrs, num_outputs)\n\u001b[0;32m     55\u001b[0m \u001b[38;5;28;01mexcept\u001b[39;00m core\u001b[38;5;241m.\u001b[39m_NotOkStatusException \u001b[38;5;28;01mas\u001b[39;00m e:\n\u001b[0;32m     56\u001b[0m   \u001b[38;5;28;01mif\u001b[39;00m name \u001b[38;5;129;01mis\u001b[39;00m \u001b[38;5;129;01mnot\u001b[39;00m \u001b[38;5;28;01mNone\u001b[39;00m:\n",
      "\u001b[1;31mInvalidArgumentError\u001b[0m: Graph execution error:\n\nDetected at node sequential/embedding/embedding_lookup defined at (most recent call last):\n  File \"<frozen runpy>\", line 198, in _run_module_as_main\n\n  File \"<frozen runpy>\", line 88, in _run_code\n\n  File \"C:\\Users\\HP\\anaconda3\\Lib\\site-packages\\ipykernel_launcher.py\", line 17, in <module>\n\n  File \"C:\\Users\\HP\\anaconda3\\Lib\\site-packages\\traitlets\\config\\application.py\", line 992, in launch_instance\n\n  File \"C:\\Users\\HP\\anaconda3\\Lib\\site-packages\\ipykernel\\kernelapp.py\", line 736, in start\n\n  File \"C:\\Users\\HP\\anaconda3\\Lib\\site-packages\\tornado\\platform\\asyncio.py\", line 195, in start\n\n  File \"C:\\Users\\HP\\anaconda3\\Lib\\asyncio\\base_events.py\", line 607, in run_forever\n\n  File \"C:\\Users\\HP\\anaconda3\\Lib\\asyncio\\base_events.py\", line 1922, in _run_once\n\n  File \"C:\\Users\\HP\\anaconda3\\Lib\\asyncio\\events.py\", line 80, in _run\n\n  File \"C:\\Users\\HP\\anaconda3\\Lib\\site-packages\\ipykernel\\kernelbase.py\", line 516, in dispatch_queue\n\n  File \"C:\\Users\\HP\\anaconda3\\Lib\\site-packages\\ipykernel\\kernelbase.py\", line 505, in process_one\n\n  File \"C:\\Users\\HP\\anaconda3\\Lib\\site-packages\\ipykernel\\kernelbase.py\", line 412, in dispatch_shell\n\n  File \"C:\\Users\\HP\\anaconda3\\Lib\\site-packages\\ipykernel\\kernelbase.py\", line 740, in execute_request\n\n  File \"C:\\Users\\HP\\anaconda3\\Lib\\site-packages\\ipykernel\\ipkernel.py\", line 422, in do_execute\n\n  File \"C:\\Users\\HP\\anaconda3\\Lib\\site-packages\\ipykernel\\zmqshell.py\", line 546, in run_cell\n\n  File \"C:\\Users\\HP\\anaconda3\\Lib\\site-packages\\IPython\\core\\interactiveshell.py\", line 3024, in run_cell\n\n  File \"C:\\Users\\HP\\anaconda3\\Lib\\site-packages\\IPython\\core\\interactiveshell.py\", line 3079, in _run_cell\n\n  File \"C:\\Users\\HP\\anaconda3\\Lib\\site-packages\\IPython\\core\\async_helpers.py\", line 129, in _pseudo_sync_runner\n\n  File \"C:\\Users\\HP\\anaconda3\\Lib\\site-packages\\IPython\\core\\interactiveshell.py\", line 3284, in run_cell_async\n\n  File \"C:\\Users\\HP\\anaconda3\\Lib\\site-packages\\IPython\\core\\interactiveshell.py\", line 3466, in run_ast_nodes\n\n  File \"C:\\Users\\HP\\anaconda3\\Lib\\site-packages\\IPython\\core\\interactiveshell.py\", line 3526, in run_code\n\n  File \"C:\\Users\\HP\\AppData\\Local\\Temp\\ipykernel_11396\\3126587349.py\", line 1, in <module>\n\n  File \"C:\\Users\\HP\\anaconda3\\Lib\\site-packages\\IPython\\core\\interactiveshell.py\", line 2493, in run_cell_magic\n\n  File \"C:\\Users\\HP\\anaconda3\\Lib\\site-packages\\IPython\\core\\magics\\execution.py\", line 1340, in time\n\n  File \"<timed exec>\", line 1, in <module>\n\n  File \"C:\\Users\\HP\\anaconda3\\Lib\\site-packages\\keras\\src\\utils\\traceback_utils.py\", line 65, in error_handler\n\n  File \"C:\\Users\\HP\\anaconda3\\Lib\\site-packages\\keras\\src\\engine\\training.py\", line 2296, in evaluate\n\n  File \"C:\\Users\\HP\\anaconda3\\Lib\\site-packages\\keras\\src\\engine\\training.py\", line 4108, in run_step\n\n  File \"C:\\Users\\HP\\anaconda3\\Lib\\site-packages\\keras\\src\\engine\\training.py\", line 2066, in test_function\n\n  File \"C:\\Users\\HP\\anaconda3\\Lib\\site-packages\\keras\\src\\engine\\training.py\", line 2049, in step_function\n\n  File \"C:\\Users\\HP\\anaconda3\\Lib\\site-packages\\keras\\src\\engine\\training.py\", line 2037, in run_step\n\n  File \"C:\\Users\\HP\\anaconda3\\Lib\\site-packages\\keras\\src\\engine\\training.py\", line 1917, in test_step\n\n  File \"C:\\Users\\HP\\anaconda3\\Lib\\site-packages\\keras\\src\\utils\\traceback_utils.py\", line 65, in error_handler\n\n  File \"C:\\Users\\HP\\anaconda3\\Lib\\site-packages\\keras\\src\\engine\\training.py\", line 590, in __call__\n\n  File \"C:\\Users\\HP\\anaconda3\\Lib\\site-packages\\keras\\src\\utils\\traceback_utils.py\", line 65, in error_handler\n\n  File \"C:\\Users\\HP\\anaconda3\\Lib\\site-packages\\keras\\src\\engine\\base_layer.py\", line 1149, in __call__\n\n  File \"C:\\Users\\HP\\anaconda3\\Lib\\site-packages\\keras\\src\\utils\\traceback_utils.py\", line 96, in error_handler\n\n  File \"C:\\Users\\HP\\anaconda3\\Lib\\site-packages\\keras\\src\\engine\\sequential.py\", line 398, in call\n\n  File \"C:\\Users\\HP\\anaconda3\\Lib\\site-packages\\keras\\src\\engine\\functional.py\", line 515, in call\n\n  File \"C:\\Users\\HP\\anaconda3\\Lib\\site-packages\\keras\\src\\engine\\functional.py\", line 672, in _run_internal_graph\n\n  File \"C:\\Users\\HP\\anaconda3\\Lib\\site-packages\\keras\\src\\utils\\traceback_utils.py\", line 65, in error_handler\n\n  File \"C:\\Users\\HP\\anaconda3\\Lib\\site-packages\\keras\\src\\engine\\base_layer.py\", line 1149, in __call__\n\n  File \"C:\\Users\\HP\\anaconda3\\Lib\\site-packages\\keras\\src\\utils\\traceback_utils.py\", line 96, in error_handler\n\n  File \"C:\\Users\\HP\\anaconda3\\Lib\\site-packages\\keras\\src\\layers\\core\\embedding.py\", line 272, in call\n\nindices[380,292] = 315798 is not in [0, 290419)\n\t [[{{node sequential/embedding/embedding_lookup}}]] [Op:__inference_test_function_1470]"
     ]
    }
   ],
   "source": [
    "%%time\n",
    "score = loaded_model.evaluate(x_test, y_test, batch_size=BATCH_SIZE)\n",
    "print()\n",
    "print(\"ACCURACY:\",score[1])\n",
    "print(\"LOSS:\",score[0])"
   ]
  },
  {
   "cell_type": "code",
   "execution_count": 24,
   "id": "5fd6c833-dd1c-4aea-adec-c93326cf0075",
   "metadata": {
    "tags": []
   },
   "outputs": [
    {
     "name": "stdout",
     "output_type": "stream",
     "text": [
      "CPU times: total: 6.78 s\n",
      "Wall time: 16.4 s\n"
     ]
    }
   ],
   "source": [
    "%%time\n",
    "x_train = pad_sequences(tokenizer.texts_to_sequences(df_train.text), maxlen=SEQUENCE_LENGTH)\n",
    "x_test = pad_sequences(tokenizer.texts_to_sequences(df_test.text), maxlen=SEQUENCE_LENGTH)"
   ]
  },
  {
   "cell_type": "code",
   "execution_count": 26,
   "id": "142b10b2-65e0-4e50-b8a5-44c8d6c12c7e",
   "metadata": {
    "tags": []
   },
   "outputs": [
    {
     "name": "stdout",
     "output_type": "stream",
     "text": [
      "y_train (1280000, 1)\n",
      "y_test (320000, 1)\n"
     ]
    }
   ],
   "source": [
    "encoder = LabelEncoder()\n",
    "encoder.fit(df_train.target.tolist())\n",
    "\n",
    "y_train = encoder.transform(df_train.target.tolist())\n",
    "y_test = encoder.transform(df_test.target.tolist())\n",
    "\n",
    "y_train = y_train.reshape(-1,1)\n",
    "y_test = y_test.reshape(-1,1)\n",
    "\n",
    "print(\"y_train\",y_train.shape)\n",
    "print(\"y_test\",y_test.shape)"
   ]
  },
  {
   "cell_type": "code",
   "execution_count": null,
   "id": "7a562fa9-1148-4186-9754-559390e7243a",
   "metadata": {},
   "outputs": [],
   "source": []
  }
 ],
 "metadata": {
  "kernelspec": {
   "display_name": "Python 3 (ipykernel)",
   "language": "python",
   "name": "python3"
  },
  "language_info": {
   "codemirror_mode": {
    "name": "ipython",
    "version": 3
   },
   "file_extension": ".py",
   "mimetype": "text/x-python",
   "name": "python",
   "nbconvert_exporter": "python",
   "pygments_lexer": "ipython3",
   "version": "3.11.5"
  }
 },
 "nbformat": 4,
 "nbformat_minor": 5
}
